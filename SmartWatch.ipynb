{
 "cells": [
  {
   "cell_type": "markdown",
   "metadata": {},
   "source": [
    "Importing Python libraries"
   ]
  },
  {
   "cell_type": "code",
   "execution_count": 1,
   "metadata": {},
   "outputs": [],
   "source": [
    "import pandas as pd\n",
    "import numpy as np\n",
    "import matplotlib.pyplot as plt\n",
    "import plotly.express as px\n",
    "import plotly.graph_objects as go"
   ]
  },
  {
   "cell_type": "markdown",
   "metadata": {},
   "source": [
    "Reading the data"
   ]
  },
  {
   "cell_type": "code",
   "execution_count": 2,
   "metadata": {},
   "outputs": [],
   "source": [
    "data = pd.read_csv(\"mturkfitbit_export_3.12.16-4.11.16\\Fitabase Data 3.12.16-4.11.16\\dailyActivity_merged.csv\")\n"
   ]
  },
  {
   "cell_type": "code",
   "execution_count": 3,
   "metadata": {},
   "outputs": [
    {
     "data": {
      "text/html": [
       "<div>\n",
       "<style scoped>\n",
       "    .dataframe tbody tr th:only-of-type {\n",
       "        vertical-align: middle;\n",
       "    }\n",
       "\n",
       "    .dataframe tbody tr th {\n",
       "        vertical-align: top;\n",
       "    }\n",
       "\n",
       "    .dataframe thead th {\n",
       "        text-align: right;\n",
       "    }\n",
       "</style>\n",
       "<table border=\"1\" class=\"dataframe\">\n",
       "  <thead>\n",
       "    <tr style=\"text-align: right;\">\n",
       "      <th></th>\n",
       "      <th>Id</th>\n",
       "      <th>ActivityDate</th>\n",
       "      <th>TotalSteps</th>\n",
       "      <th>TotalDistance</th>\n",
       "      <th>TrackerDistance</th>\n",
       "      <th>LoggedActivitiesDistance</th>\n",
       "      <th>VeryActiveDistance</th>\n",
       "      <th>ModeratelyActiveDistance</th>\n",
       "      <th>LightActiveDistance</th>\n",
       "      <th>SedentaryActiveDistance</th>\n",
       "      <th>VeryActiveMinutes</th>\n",
       "      <th>FairlyActiveMinutes</th>\n",
       "      <th>LightlyActiveMinutes</th>\n",
       "      <th>SedentaryMinutes</th>\n",
       "      <th>Calories</th>\n",
       "    </tr>\n",
       "  </thead>\n",
       "  <tbody>\n",
       "    <tr>\n",
       "      <th>0</th>\n",
       "      <td>1503960366</td>\n",
       "      <td>3/25/2016</td>\n",
       "      <td>11004</td>\n",
       "      <td>7.11</td>\n",
       "      <td>7.11</td>\n",
       "      <td>0.0</td>\n",
       "      <td>2.57</td>\n",
       "      <td>0.46</td>\n",
       "      <td>4.07</td>\n",
       "      <td>0.0</td>\n",
       "      <td>33</td>\n",
       "      <td>12</td>\n",
       "      <td>205</td>\n",
       "      <td>804</td>\n",
       "      <td>1819</td>\n",
       "    </tr>\n",
       "    <tr>\n",
       "      <th>1</th>\n",
       "      <td>1503960366</td>\n",
       "      <td>3/26/2016</td>\n",
       "      <td>17609</td>\n",
       "      <td>11.55</td>\n",
       "      <td>11.55</td>\n",
       "      <td>0.0</td>\n",
       "      <td>6.92</td>\n",
       "      <td>0.73</td>\n",
       "      <td>3.91</td>\n",
       "      <td>0.0</td>\n",
       "      <td>89</td>\n",
       "      <td>17</td>\n",
       "      <td>274</td>\n",
       "      <td>588</td>\n",
       "      <td>2154</td>\n",
       "    </tr>\n",
       "    <tr>\n",
       "      <th>2</th>\n",
       "      <td>1503960366</td>\n",
       "      <td>3/27/2016</td>\n",
       "      <td>12736</td>\n",
       "      <td>8.53</td>\n",
       "      <td>8.53</td>\n",
       "      <td>0.0</td>\n",
       "      <td>4.66</td>\n",
       "      <td>0.16</td>\n",
       "      <td>3.71</td>\n",
       "      <td>0.0</td>\n",
       "      <td>56</td>\n",
       "      <td>5</td>\n",
       "      <td>268</td>\n",
       "      <td>605</td>\n",
       "      <td>1944</td>\n",
       "    </tr>\n",
       "    <tr>\n",
       "      <th>3</th>\n",
       "      <td>1503960366</td>\n",
       "      <td>3/28/2016</td>\n",
       "      <td>13231</td>\n",
       "      <td>8.93</td>\n",
       "      <td>8.93</td>\n",
       "      <td>0.0</td>\n",
       "      <td>3.19</td>\n",
       "      <td>0.79</td>\n",
       "      <td>4.95</td>\n",
       "      <td>0.0</td>\n",
       "      <td>39</td>\n",
       "      <td>20</td>\n",
       "      <td>224</td>\n",
       "      <td>1080</td>\n",
       "      <td>1932</td>\n",
       "    </tr>\n",
       "    <tr>\n",
       "      <th>4</th>\n",
       "      <td>1503960366</td>\n",
       "      <td>3/29/2016</td>\n",
       "      <td>12041</td>\n",
       "      <td>7.85</td>\n",
       "      <td>7.85</td>\n",
       "      <td>0.0</td>\n",
       "      <td>2.16</td>\n",
       "      <td>1.09</td>\n",
       "      <td>4.61</td>\n",
       "      <td>0.0</td>\n",
       "      <td>28</td>\n",
       "      <td>28</td>\n",
       "      <td>243</td>\n",
       "      <td>763</td>\n",
       "      <td>1886</td>\n",
       "    </tr>\n",
       "  </tbody>\n",
       "</table>\n",
       "</div>"
      ],
      "text/plain": [
       "           Id ActivityDate  TotalSteps  TotalDistance  TrackerDistance  \\\n",
       "0  1503960366    3/25/2016       11004           7.11             7.11   \n",
       "1  1503960366    3/26/2016       17609          11.55            11.55   \n",
       "2  1503960366    3/27/2016       12736           8.53             8.53   \n",
       "3  1503960366    3/28/2016       13231           8.93             8.93   \n",
       "4  1503960366    3/29/2016       12041           7.85             7.85   \n",
       "\n",
       "   LoggedActivitiesDistance  VeryActiveDistance  ModeratelyActiveDistance  \\\n",
       "0                       0.0                2.57                      0.46   \n",
       "1                       0.0                6.92                      0.73   \n",
       "2                       0.0                4.66                      0.16   \n",
       "3                       0.0                3.19                      0.79   \n",
       "4                       0.0                2.16                      1.09   \n",
       "\n",
       "   LightActiveDistance  SedentaryActiveDistance  VeryActiveMinutes  \\\n",
       "0                 4.07                      0.0                 33   \n",
       "1                 3.91                      0.0                 89   \n",
       "2                 3.71                      0.0                 56   \n",
       "3                 4.95                      0.0                 39   \n",
       "4                 4.61                      0.0                 28   \n",
       "\n",
       "   FairlyActiveMinutes  LightlyActiveMinutes  SedentaryMinutes  Calories  \n",
       "0                   12                   205               804      1819  \n",
       "1                   17                   274               588      2154  \n",
       "2                    5                   268               605      1944  \n",
       "3                   20                   224              1080      1932  \n",
       "4                   28                   243               763      1886  "
      ]
     },
     "execution_count": 3,
     "metadata": {},
     "output_type": "execute_result"
    }
   ],
   "source": [
    "data.head()"
   ]
  },
  {
   "cell_type": "markdown",
   "metadata": {},
   "source": [
    "check there is null data"
   ]
  },
  {
   "cell_type": "code",
   "execution_count": 4,
   "metadata": {},
   "outputs": [
    {
     "name": "stdout",
     "output_type": "stream",
     "text": [
      "Id                          0\n",
      "ActivityDate                0\n",
      "TotalSteps                  0\n",
      "TotalDistance               0\n",
      "TrackerDistance             0\n",
      "LoggedActivitiesDistance    0\n",
      "VeryActiveDistance          0\n",
      "ModeratelyActiveDistance    0\n",
      "LightActiveDistance         0\n",
      "SedentaryActiveDistance     0\n",
      "VeryActiveMinutes           0\n",
      "FairlyActiveMinutes         0\n",
      "LightlyActiveMinutes        0\n",
      "SedentaryMinutes            0\n",
      "Calories                    0\n",
      "dtype: int64\n"
     ]
    }
   ],
   "source": [
    "print(data.isnull().sum())"
   ]
  },
  {
   "cell_type": "markdown",
   "metadata": {},
   "source": [
    "So the dataset does not have any null values"
   ]
  },
  {
   "cell_type": "markdown",
   "metadata": {},
   "source": [
    "look at the information about columns in the dataset"
   ]
  },
  {
   "cell_type": "code",
   "execution_count": 5,
   "metadata": {},
   "outputs": [
    {
     "name": "stdout",
     "output_type": "stream",
     "text": [
      "<class 'pandas.core.frame.DataFrame'>\n",
      "RangeIndex: 457 entries, 0 to 456\n",
      "Data columns (total 15 columns):\n",
      " #   Column                    Non-Null Count  Dtype  \n",
      "---  ------                    --------------  -----  \n",
      " 0   Id                        457 non-null    int64  \n",
      " 1   ActivityDate              457 non-null    object \n",
      " 2   TotalSteps                457 non-null    int64  \n",
      " 3   TotalDistance             457 non-null    float64\n",
      " 4   TrackerDistance           457 non-null    float64\n",
      " 5   LoggedActivitiesDistance  457 non-null    float64\n",
      " 6   VeryActiveDistance        457 non-null    float64\n",
      " 7   ModeratelyActiveDistance  457 non-null    float64\n",
      " 8   LightActiveDistance       457 non-null    float64\n",
      " 9   SedentaryActiveDistance   457 non-null    float64\n",
      " 10  VeryActiveMinutes         457 non-null    int64  \n",
      " 11  FairlyActiveMinutes       457 non-null    int64  \n",
      " 12  LightlyActiveMinutes      457 non-null    int64  \n",
      " 13  SedentaryMinutes          457 non-null    int64  \n",
      " 14  Calories                  457 non-null    int64  \n",
      "dtypes: float64(7), int64(7), object(1)\n",
      "memory usage: 53.7+ KB\n"
     ]
    }
   ],
   "source": [
    "data.info()"
   ]
  },
  {
   "cell_type": "markdown",
   "metadata": {},
   "source": [
    "convert ActivityDate column into a datetime column"
   ]
  },
  {
   "cell_type": "code",
   "execution_count": 6,
   "metadata": {},
   "outputs": [
    {
     "name": "stdout",
     "output_type": "stream",
     "text": [
      "<class 'pandas.core.frame.DataFrame'>\n",
      "RangeIndex: 457 entries, 0 to 456\n",
      "Data columns (total 15 columns):\n",
      " #   Column                    Non-Null Count  Dtype         \n",
      "---  ------                    --------------  -----         \n",
      " 0   Id                        457 non-null    int64         \n",
      " 1   ActivityDate              457 non-null    datetime64[ns]\n",
      " 2   TotalSteps                457 non-null    int64         \n",
      " 3   TotalDistance             457 non-null    float64       \n",
      " 4   TrackerDistance           457 non-null    float64       \n",
      " 5   LoggedActivitiesDistance  457 non-null    float64       \n",
      " 6   VeryActiveDistance        457 non-null    float64       \n",
      " 7   ModeratelyActiveDistance  457 non-null    float64       \n",
      " 8   LightActiveDistance       457 non-null    float64       \n",
      " 9   SedentaryActiveDistance   457 non-null    float64       \n",
      " 10  VeryActiveMinutes         457 non-null    int64         \n",
      " 11  FairlyActiveMinutes       457 non-null    int64         \n",
      " 12  LightlyActiveMinutes      457 non-null    int64         \n",
      " 13  SedentaryMinutes          457 non-null    int64         \n",
      " 14  Calories                  457 non-null    int64         \n",
      "dtypes: datetime64[ns](1), float64(7), int64(7)\n",
      "memory usage: 53.7 KB\n",
      "None\n"
     ]
    }
   ],
   "source": [
    "data[\"ActivityDate\"] = pd.to_datetime(data[\"ActivityDate\"], \n",
    "                                      format=\"%m/%d/%Y\")\n",
    "print(data.info())"
   ]
  },
  {
   "cell_type": "code",
   "execution_count": 7,
   "metadata": {},
   "outputs": [
    {
     "data": {
      "text/plain": [
       "0     2016-03-25\n",
       "1     2016-03-26\n",
       "2     2016-03-27\n",
       "3     2016-03-28\n",
       "4     2016-03-29\n",
       "         ...    \n",
       "452   2016-04-08\n",
       "453   2016-04-09\n",
       "454   2016-04-10\n",
       "455   2016-04-11\n",
       "456   2016-04-12\n",
       "Name: ActivityDate, Length: 457, dtype: datetime64[ns]"
      ]
     },
     "execution_count": 7,
     "metadata": {},
     "output_type": "execute_result"
    }
   ],
   "source": [
    "data[\"ActivityDate\"]"
   ]
  },
  {
   "cell_type": "markdown",
   "metadata": {},
   "source": [
    "Look at all the columns; you will see information about very active, fairly active, lightly active, and sedentary minutes in the dataset. Let’s combine all these columns as total minutes before moving forward"
   ]
  },
  {
   "cell_type": "code",
   "execution_count": 8,
   "metadata": {},
   "outputs": [
    {
     "name": "stdout",
     "output_type": "stream",
     "text": [
      "210    1440\n",
      "378     999\n",
      "175    1440\n",
      "54     1440\n",
      "275     631\n",
      "Name: TotalMinutes, dtype: int64\n"
     ]
    }
   ],
   "source": [
    "data[\"TotalMinutes\"] = data[\"VeryActiveMinutes\"] + data[\"FairlyActiveMinutes\"] + data[\"LightlyActiveMinutes\"] + data[\"SedentaryMinutes\"]\n",
    "print(data[\"TotalMinutes\"].sample(5))"
   ]
  },
  {
   "cell_type": "markdown",
   "metadata": {},
   "source": [
    "look at the descriptive statistics of the dataset\n"
   ]
  },
  {
   "cell_type": "code",
   "execution_count": 9,
   "metadata": {},
   "outputs": [
    {
     "name": "stdout",
     "output_type": "stream",
     "text": [
      "                 Id                   ActivityDate    TotalSteps  \\\n",
      "count  4.570000e+02                            457    457.000000   \n",
      "mean   4.628595e+09  2016-04-04 04:40:26.258205696   6546.562363   \n",
      "min    1.503960e+09            2016-03-12 00:00:00      0.000000   \n",
      "25%    2.347168e+09            2016-04-02 00:00:00   1988.000000   \n",
      "50%    4.057193e+09            2016-04-05 00:00:00   5986.000000   \n",
      "75%    6.391747e+09            2016-04-08 00:00:00  10198.000000   \n",
      "max    8.877689e+09            2016-04-12 00:00:00  28497.000000   \n",
      "std    2.293781e+09                            NaN   5398.493064   \n",
      "\n",
      "       TotalDistance  TrackerDistance  LoggedActivitiesDistance  \\\n",
      "count     457.000000       457.000000                457.000000   \n",
      "mean        4.663523         4.609847                  0.179427   \n",
      "min         0.000000         0.000000                  0.000000   \n",
      "25%         1.410000         1.280000                  0.000000   \n",
      "50%         4.090000         4.090000                  0.000000   \n",
      "75%         7.160000         7.110000                  0.000000   \n",
      "max        27.530001        27.530001                  6.727057   \n",
      "std         4.082072         4.068540                  0.849232   \n",
      "\n",
      "       VeryActiveDistance  ModeratelyActiveDistance  LightActiveDistance  \\\n",
      "count          457.000000                457.000000           457.000000   \n",
      "mean             1.180897                  0.478643             2.890197   \n",
      "min              0.000000                  0.000000             0.000000   \n",
      "25%              0.000000                  0.000000             0.870000   \n",
      "50%              0.000000                  0.020000             2.930000   \n",
      "75%              1.310000                  0.670000             4.460000   \n",
      "max             21.920000                  6.400000            12.510000   \n",
      "std              2.487159                  0.830995             2.237523   \n",
      "\n",
      "       SedentaryActiveDistance  VeryActiveMinutes  FairlyActiveMinutes  \\\n",
      "count               457.000000         457.000000           457.000000   \n",
      "mean                  0.001904          16.623632            13.070022   \n",
      "min                   0.000000           0.000000             0.000000   \n",
      "25%                   0.000000           0.000000             0.000000   \n",
      "50%                   0.000000           0.000000             1.000000   \n",
      "75%                   0.000000          25.000000            16.000000   \n",
      "max                   0.100000         202.000000           660.000000   \n",
      "std                   0.008487          28.919704            36.208635   \n",
      "\n",
      "       LightlyActiveMinutes  SedentaryMinutes     Calories  TotalMinutes  \n",
      "count            457.000000        457.000000   457.000000    457.000000  \n",
      "mean             170.070022        995.282276  2189.452954   1195.045952  \n",
      "min                0.000000         32.000000     0.000000     41.000000  \n",
      "25%               64.000000        728.000000  1776.000000    985.000000  \n",
      "50%              181.000000       1057.000000  2062.000000   1440.000000  \n",
      "75%              257.000000       1285.000000  2667.000000   1440.000000  \n",
      "max              720.000000       1440.000000  4562.000000   1440.000000  \n",
      "std              122.205372        337.021404   815.484523    306.457382  \n"
     ]
    }
   ],
   "source": [
    "print(data.describe())"
   ]
  },
  {
   "cell_type": "markdown",
   "metadata": {},
   "source": [
    "Let’s have a look at the relationship between calories burned and the total steps walked in a day"
   ]
  },
  {
   "cell_type": "code",
   "execution_count": 10,
   "metadata": {},
   "outputs": [
    {
     "data": {
      "application/vnd.plotly.v1+json": {
       "config": {
        "plotlyServerURL": "https://plot.ly"
       },
       "data": [
        {
         "hovertemplate": "Calories=%{x}<br>TotalSteps=%{y}<br>VeryActiveMinutes=%{marker.color}<extra></extra>",
         "legendgroup": "",
         "marker": {
          "color": [
           33,
           89,
           56,
           39,
           28,
           30,
           33,
           47,
           40,
           15,
           43,
           36,
           27,
           17,
           46,
           32,
           44,
           26,
           0,
           0,
           0,
           0,
           0,
           0,
           0,
           7,
           0,
           0,
           0,
           0,
           0,
           0,
           0,
           0,
           0,
           7,
           0,
           0,
           0,
           34,
           59,
           4,
           5,
           18,
           3,
           7,
           18,
           0,
           9,
           0,
           0,
           0,
           0,
           0,
           0,
           0,
           0,
           0,
           0,
           0,
           0,
           0,
           0,
           0,
           0,
           0,
           0,
           0,
           0,
           0,
           0,
           0,
           72,
           0,
           25,
           62,
           36,
           47,
           72,
           40,
           44,
           1,
           41,
           41,
           0,
           0,
           0,
           0,
           0,
           0,
           0,
           0,
           0,
           0,
           0,
           0,
           0,
           0,
           0,
           0,
           0,
           0,
           0,
           0,
           1,
           0,
           10,
           0,
           2,
           21,
           0,
           0,
           51,
           0,
           21,
           18,
           14,
           15,
           2,
           16,
           12,
           5,
           0,
           0,
           0,
           3,
           6,
           0,
           0,
           5,
           0,
           46,
           1,
           0,
           0,
           0,
           0,
           0,
           0,
           0,
           0,
           0,
           0,
           0,
           24,
           0,
           20,
           0,
           17,
           14,
           0,
           21,
           22,
           0,
           0,
           29,
           16,
           26,
           24,
           0,
           0,
           35,
           15,
           1,
           0,
           0,
           0,
           0,
           0,
           25,
           0,
           0,
           0,
           0,
           0,
           0,
           0,
           0,
           0,
           0,
           0,
           31,
           0,
           0,
           18,
           15,
           3,
           0,
           0,
           7,
           0,
           0,
           6,
           20,
           5,
           0,
           0,
           0,
           0,
           30,
           0,
           0,
           0,
           0,
           0,
           0,
           0,
           0,
           7,
           0,
           0,
           0,
           0,
           0,
           0,
           0,
           0,
           0,
           0,
           0,
           0,
           0,
           0,
           0,
           2,
           0,
           1,
           0,
           0,
           3,
           4,
           4,
           14,
           15,
           12,
           5,
           3,
           8,
           7,
           4,
           0,
           0,
           0,
           0,
           0,
           0,
           0,
           0,
           0,
           0,
           0,
           0,
           0,
           0,
           0,
           0,
           1,
           28,
           24,
           0,
           0,
           0,
           23,
           0,
           0,
           0,
           1,
           0,
           24,
           0,
           27,
           0,
           0,
           0,
           0,
           0,
           4,
           3,
           0,
           0,
           0,
           3,
           6,
           15,
           4,
           0,
           0,
           8,
           1,
           0,
           0,
           51,
           0,
           0,
           27,
           40,
           33,
           51,
           38,
           0,
           4,
           32,
           7,
           99,
           202,
           58,
           70,
           107,
           83,
           31,
           8,
           123,
           80,
           39,
           0,
           3,
           0,
           2,
           0,
           0,
           0,
           0,
           0,
           0,
           0,
           25,
           33,
           0,
           0,
           0,
           0,
           0,
           0,
           20,
           0,
           46,
           0,
           0,
           0,
           0,
           0,
           0,
           0,
           25,
           0,
           1,
           0,
           56,
           24,
           46,
           27,
           0,
           18,
           50,
           9,
           50,
           14,
           73,
           38,
           55,
           45,
           27,
           33,
           19,
           21,
           43,
           50,
           9,
           104,
           70,
           50,
           64,
           61,
           54,
           2,
           1,
           18,
           53,
           38,
           0,
           3,
           31,
           25,
           19,
           76,
           50,
           27,
           0,
           46,
           0,
           124,
           165,
           100,
           98,
           100,
           101,
           60,
           59,
           30,
           96,
           0,
           0,
           0,
           0,
           0,
           0,
           0,
           15,
           47,
           8,
           0,
           0,
           0,
           73,
           0,
           25,
           105,
           113,
           55,
           83,
           72,
           0,
           0,
           74,
           65,
           0,
           0,
           0,
           0,
           5,
           0,
           0,
           0,
           4,
           9,
           2,
           0,
           1,
           0,
           0,
           2,
           0,
           0,
           0,
           0,
           67,
           116,
           106,
           78,
           10,
           87,
           32,
           70,
           90,
           128,
           18,
           0
          ],
          "coloraxis": "coloraxis",
          "size": [
           33,
           89,
           56,
           39,
           28,
           30,
           33,
           47,
           40,
           15,
           43,
           36,
           27,
           17,
           46,
           32,
           44,
           26,
           0,
           0,
           0,
           0,
           0,
           0,
           0,
           7,
           0,
           0,
           0,
           0,
           0,
           0,
           0,
           0,
           0,
           7,
           0,
           0,
           0,
           34,
           59,
           4,
           5,
           18,
           3,
           7,
           18,
           0,
           9,
           0,
           0,
           0,
           0,
           0,
           0,
           0,
           0,
           0,
           0,
           0,
           0,
           0,
           0,
           0,
           0,
           0,
           0,
           0,
           0,
           0,
           0,
           0,
           72,
           0,
           25,
           62,
           36,
           47,
           72,
           40,
           44,
           1,
           41,
           41,
           0,
           0,
           0,
           0,
           0,
           0,
           0,
           0,
           0,
           0,
           0,
           0,
           0,
           0,
           0,
           0,
           0,
           0,
           0,
           0,
           1,
           0,
           10,
           0,
           2,
           21,
           0,
           0,
           51,
           0,
           21,
           18,
           14,
           15,
           2,
           16,
           12,
           5,
           0,
           0,
           0,
           3,
           6,
           0,
           0,
           5,
           0,
           46,
           1,
           0,
           0,
           0,
           0,
           0,
           0,
           0,
           0,
           0,
           0,
           0,
           24,
           0,
           20,
           0,
           17,
           14,
           0,
           21,
           22,
           0,
           0,
           29,
           16,
           26,
           24,
           0,
           0,
           35,
           15,
           1,
           0,
           0,
           0,
           0,
           0,
           25,
           0,
           0,
           0,
           0,
           0,
           0,
           0,
           0,
           0,
           0,
           0,
           31,
           0,
           0,
           18,
           15,
           3,
           0,
           0,
           7,
           0,
           0,
           6,
           20,
           5,
           0,
           0,
           0,
           0,
           30,
           0,
           0,
           0,
           0,
           0,
           0,
           0,
           0,
           7,
           0,
           0,
           0,
           0,
           0,
           0,
           0,
           0,
           0,
           0,
           0,
           0,
           0,
           0,
           0,
           2,
           0,
           1,
           0,
           0,
           3,
           4,
           4,
           14,
           15,
           12,
           5,
           3,
           8,
           7,
           4,
           0,
           0,
           0,
           0,
           0,
           0,
           0,
           0,
           0,
           0,
           0,
           0,
           0,
           0,
           0,
           0,
           1,
           28,
           24,
           0,
           0,
           0,
           23,
           0,
           0,
           0,
           1,
           0,
           24,
           0,
           27,
           0,
           0,
           0,
           0,
           0,
           4,
           3,
           0,
           0,
           0,
           3,
           6,
           15,
           4,
           0,
           0,
           8,
           1,
           0,
           0,
           51,
           0,
           0,
           27,
           40,
           33,
           51,
           38,
           0,
           4,
           32,
           7,
           99,
           202,
           58,
           70,
           107,
           83,
           31,
           8,
           123,
           80,
           39,
           0,
           3,
           0,
           2,
           0,
           0,
           0,
           0,
           0,
           0,
           0,
           25,
           33,
           0,
           0,
           0,
           0,
           0,
           0,
           20,
           0,
           46,
           0,
           0,
           0,
           0,
           0,
           0,
           0,
           25,
           0,
           1,
           0,
           56,
           24,
           46,
           27,
           0,
           18,
           50,
           9,
           50,
           14,
           73,
           38,
           55,
           45,
           27,
           33,
           19,
           21,
           43,
           50,
           9,
           104,
           70,
           50,
           64,
           61,
           54,
           2,
           1,
           18,
           53,
           38,
           0,
           3,
           31,
           25,
           19,
           76,
           50,
           27,
           0,
           46,
           0,
           124,
           165,
           100,
           98,
           100,
           101,
           60,
           59,
           30,
           96,
           0,
           0,
           0,
           0,
           0,
           0,
           0,
           15,
           47,
           8,
           0,
           0,
           0,
           73,
           0,
           25,
           105,
           113,
           55,
           83,
           72,
           0,
           0,
           74,
           65,
           0,
           0,
           0,
           0,
           5,
           0,
           0,
           0,
           4,
           9,
           2,
           0,
           1,
           0,
           0,
           2,
           0,
           0,
           0,
           0,
           67,
           116,
           106,
           78,
           10,
           87,
           32,
           70,
           90,
           128,
           18,
           0
          ],
          "sizemode": "area",
          "sizeref": 0.505,
          "symbol": "circle"
         },
         "mode": "markers",
         "name": "",
         "orientation": "v",
         "showlegend": false,
         "type": "scatter",
         "x": [
          1819,
          2154,
          1944,
          1932,
          1886,
          1820,
          1889,
          1868,
          1843,
          1850,
          2030,
          2083,
          1861,
          1755,
          1895,
          1883,
          1755,
          1811,
          50,
          1373,
          1264,
          1350,
          1342,
          1300,
          1313,
          1498,
          1541,
          1327,
          1452,
          1574,
          1308,
          1276,
          1278,
          1409,
          1370,
          1555,
          1469,
          706,
          3323,
          4029,
          3436,
          2444,
          3098,
          2925,
          3202,
          2928,
          3290,
          489,
          1969,
          1889,
          1636,
          1347,
          1347,
          1349,
          1965,
          1824,
          1807,
          1971,
          1888,
          399,
          2590,
          2783,
          2449,
          2380,
          2344,
          2202,
          2130,
          2088,
          2443,
          2442,
          2255,
          942,
          2645,
          2040,
          2395,
          2581,
          2735,
          2733,
          3021,
          2577,
          2811,
          2458,
          2568,
          1140,
          1407,
          1237,
          1330,
          1583,
          1538,
          1421,
          1392,
          1425,
          1413,
          1515,
          1405,
          600,
          1324,
          1324,
          1324,
          1324,
          1708,
          1950,
          1508,
          1625,
          1772,
          1530,
          2206,
          790,
          2041,
          2187,
          1929,
          1935,
          2438,
          2035,
          2099,
          2096,
          2058,
          2338,
          2104,
          2488,
          2164,
          2009,
          399,
          1335,
          1559,
          1845,
          2046,
          1953,
          1910,
          2035,
          1944,
          2257,
          1724,
          1741,
          0,
          1920,
          1920,
          1920,
          4562,
          2881,
          1920,
          1920,
          1144,
          1852,
          2069,
          1816,
          1878,
          1787,
          2010,
          2038,
          1815,
          2062,
          1276,
          1288,
          1490,
          1630,
          1648,
          1649,
          1783,
          1431,
          1524,
          1697,
          1232,
          1223,
          182,
          2990,
          2480,
          2570,
          3016,
          3830,
          3706,
          2024,
          2980,
          3728,
          3348,
          3162,
          3140,
          1980,
          3681,
          3444,
          3510,
          4010,
          2976,
          3418,
          3439,
          3338,
          2892,
          3313,
          3118,
          2966,
          3253,
          3032,
          4034,
          3264,
          2817,
          2507,
          446,
          1777,
          1777,
          2453,
          1776,
          1935,
          1776,
          1870,
          1777,
          1782,
          1978,
          2296,
          2484,
          1787,
          1776,
          1776,
          2005,
          1778,
          2293,
          2259,
          1776,
          1776,
          1776,
          1776,
          1776,
          1776,
          1780,
          1778,
          2360,
          1952,
          2101,
          2393,
          538,
          1958,
          2141,
          2129,
          2216,
          2154,
          2178,
          2308,
          2201,
          2341,
          2236,
          2069,
          0,
          1878,
          1878,
          1878,
          1878,
          1878,
          1878,
          1878,
          1296,
          2010,
          2032,
          2227,
          2133,
          2317,
          2058,
          1935,
          2217,
          2374,
          2335,
          2303,
          2210,
          2424,
          2297,
          745,
          1902,
          1680,
          1901,
          2078,
          1876,
          1853,
          2235,
          1778,
          1882,
          1906,
          2149,
          722,
          2886,
          2915,
          2895,
          2923,
          3323,
          3357,
          2931,
          2848,
          2943,
          2822,
          2981,
          3597,
          3224,
          2677,
          0,
          2142,
          1615,
          1481,
          1892,
          2086,
          2044,
          2249,
          2019,
          1692,
          1712,
          2065,
          633,
          3625,
          4430,
          3427,
          3492,
          3597,
          3765,
          2775,
          2486,
          3817,
          3378,
          1511,
          2210,
          2884,
          1496,
          2262,
          2445,
          2694,
          1903,
          2482,
          2617,
          0,
          2778,
          3119,
          2664,
          2060,
          2060,
          2060,
          2060,
          2060,
          2060,
          735,
          1820,
          2224,
          1820,
          1820,
          2442,
          1849,
          1822,
          1820,
          251,
          3065,
          2207,
          1977,
          1841,
          4286,
          3920,
          3856,
          2584,
          787,
          2244,
          2188,
          2014,
          2115,
          2055,
          2437,
          2158,
          2170,
          2244,
          2188,
          2231,
          2100,
          2188,
          917,
          2573,
          2575,
          3086,
          2886,
          2676,
          2811,
          2840,
          2871,
          2613,
          2700,
          2871,
          1023,
          2496,
          1641,
          1794,
          2421,
          2439,
          2233,
          2862,
          2752,
          2519,
          1799,
          2543,
          625,
          3377,
          3697,
          3209,
          3167,
          3122,
          3176,
          2790,
          2715,
          2684,
          3097,
          791,
          1429,
          1429,
          1429,
          1429,
          1429,
          1607,
          1776,
          2162,
          1832,
          1657,
          1377,
          0,
          3669,
          2702,
          3304,
          4234,
          4128,
          3798,
          3839,
          3713,
          2606,
          2624,
          3775,
          1882,
          2360,
          2517,
          2400,
          2462,
          2786,
          2354,
          2437,
          1814,
          2260,
          3004,
          2667,
          2229,
          2100,
          2114,
          1961,
          1953,
          1890,
          2253,
          1725,
          728,
          3527,
          4220,
          3864,
          3662,
          2834,
          4039,
          2947,
          4196,
          3841,
          4526,
          2820,
          938
         ],
         "xaxis": "x",
         "y": [
          11004,
          17609,
          12736,
          13231,
          12041,
          10970,
          12256,
          12262,
          11248,
          10016,
          14557,
          14844,
          11974,
          10198,
          12521,
          12432,
          10057,
          10990,
          224,
          1810,
          815,
          1985,
          1905,
          1552,
          1675,
          4506,
          9218,
          1556,
          2910,
          18464,
          1335,
          1004,
          1111,
          6344,
          3572,
          3910,
          10000,
          6627,
          4636,
          20237,
          12912,
          2819,
          9921,
          8046,
          11166,
          7842,
          13840,
          1329,
          6847,
          5367,
          2841,
          0,
          0,
          7,
          6344,
          5316,
          4979,
          6556,
          5430,
          0,
          4317,
          5662,
          3198,
          2352,
          2234,
          1259,
          768,
          519,
          2523,
          2105,
          1209,
          24,
          13603,
          5477,
          11144,
          15313,
          10805,
          15392,
          18247,
          13023,
          16267,
          10005,
          10106,
          6717,
          2605,
          1229,
          2308,
          6679,
          5645,
          3180,
          2767,
          3762,
          3098,
          5142,
          3279,
          1019,
          0,
          0,
          0,
          0,
          4931,
          6999,
          1846,
          3417,
          4863,
          2277,
          11230,
          2098,
          10272,
          10533,
          6760,
          8328,
          15459,
          7485,
          10254,
          10114,
          11107,
          10320,
          10209,
          16081,
          10078,
          10001,
          0,
          890,
          2214,
          7640,
          9713,
          8432,
          7350,
          9353,
          7157,
          14103,
          5290,
          7497,
          0,
          0,
          0,
          0,
          0,
          4126,
          0,
          0,
          2063,
          5785,
          7625,
          4706,
          5861,
          4460,
          6406,
          7392,
          5551,
          8827,
          4662,
          4499,
          7618,
          11508,
          11943,
          12303,
          15425,
          8422,
          10226,
          14583,
          3573,
          3108,
          759,
          5543,
          3226,
          3023,
          5906,
          12483,
          8940,
          368,
          5702,
          10330,
          8778,
          6662,
          6309,
          1951,
          5563,
          4370,
          7144,
          2106,
          4152,
          5400,
          7428,
          5351,
          4299,
          6107,
          6429,
          6880,
          7476,
          6581,
          10480,
          7734,
          5129,
          2993,
          8,
          0,
          0,
          8433,
          0,
          2139,
          0,
          949,
          0,
          44,
          2660,
          5561,
          7239,
          7,
          0,
          0,
          2275,
          8,
          5137,
          5419,
          0,
          0,
          0,
          0,
          0,
          0,
          18,
          4,
          8426,
          1650,
          3434,
          6801,
          187,
          5643,
          9043,
          8144,
          9343,
          8405,
          8223,
          10067,
          8359,
          10946,
          9130,
          6544,
          0,
          0,
          0,
          0,
          0,
          0,
          0,
          0,
          0,
          2303,
          2600,
          4804,
          3271,
          5406,
          3146,
          2422,
          4239,
          6911,
          6667,
          5543,
          4195,
          6625,
          5986,
          278,
          5336,
          3183,
          6176,
          8205,
          6799,
          5668,
          7998,
          4195,
          5512,
          6263,
          8828,
          1260,
          6506,
          7583,
          6963,
          7165,
          10328,
          12116,
          7810,
          6670,
          7605,
          6585,
          8184,
          14002,
          11135,
          6499,
          0,
          12409,
          2937,
          1515,
          8921,
          11306,
          12252,
          15444,
          9938,
          4599,
          5594,
          11906,
          3436,
          10461,
          14873,
          9917,
          7401,
          8964,
          11080,
          4499,
          4363,
          10494,
          9776,
          2862,
          7444,
          19658,
          0,
          8468,
          9910,
          12409,
          4853,
          8955,
          10789,
          0,
          6633,
          9548,
          0,
          0,
          0,
          0,
          0,
          0,
          0,
          0,
          0,
          2101,
          0,
          0,
          9766,
          165,
          0,
          0,
          0,
          7225,
          1988,
          1577,
          0,
          9348,
          11761,
          13987,
          4131,
          14,
          15491,
          14097,
          10467,
          12437,
          12307,
          18952,
          12010,
          12480,
          13417,
          14400,
          12495,
          10148,
          12362,
          5893,
          11680,
          10976,
          16806,
          15266,
          12084,
          13513,
          14100,
          12627,
          10345,
          10146,
          12168,
          7413,
          11463,
          87,
          1949,
          6101,
          7478,
          7352,
          14604,
          9634,
          7338,
          569,
          6242,
          430,
          20188,
          25701,
          17395,
          17167,
          16435,
          17078,
          11693,
          11159,
          10118,
          16064,
          290,
          0,
          0,
          0,
          0,
          0,
          1931,
          5181,
          12026,
          5360,
          2545,
          1636,
          0,
          14179,
          3358,
          9152,
          13935,
          12846,
          9124,
          9725,
          8350,
          2240,
          2631,
          8837,
          3246,
          2174,
          3494,
          2380,
          3159,
          6835,
          2098,
          2816,
          1408,
          4592,
          8452,
          7238,
          3821,
          2332,
          2121,
          1291,
          1467,
          1022,
          4605,
          178,
          20,
          18700,
          27572,
          15260,
          20779,
          10695,
          24136,
          10910,
          23014,
          16470,
          28497,
          10622,
          2350
         ],
         "yaxis": "y"
        },
        {
         "hovertemplate": "<b>OLS trendline</b><br>TotalSteps = 3.84873 * Calories + -1880.04<br>R<sup>2</sup>=0.338003<br><br>Calories=%{x}<br>TotalSteps=%{y} <b>(trend)</b><extra></extra>",
         "legendgroup": "",
         "marker": {
          "symbol": "circle"
         },
         "mode": "lines",
         "name": "",
         "showlegend": false,
         "type": "scatter",
         "x": [
          0,
          0,
          0,
          0,
          0,
          50,
          182,
          251,
          399,
          399,
          446,
          489,
          538,
          600,
          625,
          633,
          706,
          722,
          728,
          735,
          745,
          787,
          790,
          791,
          917,
          938,
          942,
          1023,
          1140,
          1144,
          1223,
          1232,
          1237,
          1264,
          1276,
          1276,
          1278,
          1288,
          1296,
          1300,
          1308,
          1313,
          1324,
          1324,
          1324,
          1324,
          1327,
          1330,
          1335,
          1342,
          1347,
          1347,
          1349,
          1350,
          1370,
          1373,
          1377,
          1392,
          1405,
          1407,
          1409,
          1413,
          1421,
          1425,
          1429,
          1429,
          1429,
          1429,
          1429,
          1431,
          1452,
          1469,
          1481,
          1490,
          1496,
          1498,
          1508,
          1511,
          1515,
          1524,
          1530,
          1538,
          1541,
          1555,
          1559,
          1574,
          1583,
          1607,
          1615,
          1625,
          1630,
          1636,
          1641,
          1648,
          1649,
          1657,
          1680,
          1692,
          1697,
          1708,
          1712,
          1724,
          1725,
          1741,
          1755,
          1755,
          1772,
          1776,
          1776,
          1776,
          1776,
          1776,
          1776,
          1776,
          1776,
          1776,
          1776,
          1776,
          1777,
          1777,
          1777,
          1778,
          1778,
          1778,
          1780,
          1782,
          1783,
          1787,
          1787,
          1794,
          1799,
          1807,
          1811,
          1814,
          1815,
          1816,
          1819,
          1820,
          1820,
          1820,
          1820,
          1820,
          1822,
          1824,
          1832,
          1841,
          1843,
          1845,
          1849,
          1850,
          1852,
          1853,
          1861,
          1868,
          1870,
          1876,
          1878,
          1878,
          1878,
          1878,
          1878,
          1878,
          1878,
          1878,
          1882,
          1882,
          1883,
          1886,
          1888,
          1889,
          1889,
          1890,
          1892,
          1895,
          1901,
          1902,
          1903,
          1906,
          1910,
          1920,
          1920,
          1920,
          1920,
          1920,
          1929,
          1932,
          1935,
          1935,
          1935,
          1944,
          1944,
          1950,
          1952,
          1953,
          1953,
          1958,
          1961,
          1965,
          1969,
          1971,
          1977,
          1978,
          1980,
          2005,
          2009,
          2010,
          2010,
          2014,
          2019,
          2024,
          2030,
          2032,
          2035,
          2035,
          2038,
          2040,
          2041,
          2044,
          2046,
          2055,
          2058,
          2058,
          2060,
          2060,
          2060,
          2060,
          2060,
          2060,
          2062,
          2065,
          2069,
          2069,
          2078,
          2083,
          2086,
          2088,
          2096,
          2099,
          2100,
          2100,
          2101,
          2104,
          2114,
          2115,
          2129,
          2130,
          2133,
          2141,
          2142,
          2149,
          2154,
          2154,
          2158,
          2162,
          2164,
          2170,
          2178,
          2187,
          2188,
          2188,
          2188,
          2201,
          2202,
          2206,
          2207,
          2210,
          2210,
          2216,
          2217,
          2224,
          2227,
          2229,
          2231,
          2233,
          2235,
          2236,
          2244,
          2244,
          2249,
          2253,
          2255,
          2257,
          2259,
          2260,
          2262,
          2293,
          2296,
          2297,
          2303,
          2308,
          2317,
          2335,
          2338,
          2341,
          2344,
          2354,
          2360,
          2360,
          2374,
          2380,
          2393,
          2395,
          2400,
          2421,
          2424,
          2437,
          2437,
          2438,
          2439,
          2442,
          2442,
          2443,
          2444,
          2445,
          2449,
          2453,
          2458,
          2462,
          2480,
          2482,
          2484,
          2486,
          2488,
          2496,
          2507,
          2517,
          2519,
          2543,
          2568,
          2570,
          2573,
          2575,
          2577,
          2581,
          2584,
          2590,
          2606,
          2613,
          2617,
          2624,
          2645,
          2664,
          2667,
          2676,
          2677,
          2684,
          2694,
          2700,
          2702,
          2715,
          2733,
          2735,
          2752,
          2775,
          2778,
          2783,
          2786,
          2790,
          2811,
          2811,
          2817,
          2820,
          2822,
          2834,
          2840,
          2848,
          2862,
          2871,
          2871,
          2881,
          2884,
          2886,
          2886,
          2892,
          2895,
          2915,
          2923,
          2925,
          2928,
          2931,
          2943,
          2947,
          2966,
          2976,
          2980,
          2981,
          2990,
          3004,
          3016,
          3021,
          3032,
          3065,
          3086,
          3097,
          3098,
          3118,
          3119,
          3122,
          3140,
          3162,
          3167,
          3176,
          3202,
          3209,
          3224,
          3253,
          3264,
          3290,
          3304,
          3313,
          3323,
          3323,
          3338,
          3348,
          3357,
          3377,
          3378,
          3418,
          3427,
          3436,
          3439,
          3444,
          3492,
          3510,
          3527,
          3597,
          3597,
          3625,
          3662,
          3669,
          3681,
          3697,
          3706,
          3713,
          3728,
          3765,
          3775,
          3798,
          3817,
          3830,
          3839,
          3841,
          3856,
          3864,
          3920,
          4010,
          4029,
          4034,
          4039,
          4128,
          4196,
          4220,
          4234,
          4286,
          4430,
          4526,
          4562
         ],
         "xaxis": "x",
         "y": [
          -1880.0433135470453,
          -1880.0433135470453,
          -1880.0433135470453,
          -1880.0433135470453,
          -1880.0433135470453,
          -1687.6069869019495,
          -1179.5750845588966,
          -914.0129537886644,
          -344.4014269191807,
          -344.4014269191807,
          -163.51127987279074,
          1.9839610419917335,
          190.57156115418547,
          429.1926061941044,
          525.4107695166522,
          556.2005817798677,
          837.1576186817074,
          898.7372432081379,
          921.8296024055494,
          948.7706881358631,
          987.2579534648821,
          1148.9044678467626,
          1160.4506474454683,
          1164.29937397837,
          1649.2389171240116,
          1730.0621743149518,
          1745.4570804465598,
          2057.203929611615,
          2507.504933961139,
          2522.899840092746,
          2826.949236191998,
          2861.587774988115,
          2880.8314076526244,
          2984.747024040976,
          3030.931742435799,
          3030.931742435799,
          3038.6291955016036,
          3077.116460830622,
          3107.906273093838,
          3123.301179225445,
          3154.090991488661,
          3173.3346241531704,
          3215.670616015091,
          3215.670616015091,
          3215.670616015091,
          3215.670616015091,
          3227.216795613797,
          3238.7629752125026,
          3258.006607877013,
          3284.9476936073256,
          3304.191326271836,
          3304.191326271836,
          3311.8887793376393,
          3315.7375058705416,
          3392.7120365285796,
          3404.2582161272853,
          3419.6531222588933,
          3477.384020252422,
          3527.4174651801463,
          3535.114918245951,
          3542.8123713117543,
          3558.2072774433623,
          3588.9970897065773,
          3604.3919958381853,
          3619.7869019697923,
          3619.7869019697923,
          3619.7869019697923,
          3619.7869019697923,
          3619.7869019697923,
          3627.4843550355968,
          3708.307612226537,
          3773.7359632858693,
          3819.9206816806923,
          3854.5592204768095,
          3877.651579674221,
          3885.3490327400245,
          3923.836298069044,
          3935.3824776677498,
          3950.7773837993577,
          3985.415922595475,
          4008.5082817928865,
          4039.2980940561015,
          4050.8442736548072,
          4104.726445115433,
          4120.121351247042,
          4177.85224924057,
          4212.490788036688,
          4304.860224826334,
          4335.650037089548,
          4374.137302418569,
          4393.380935083078,
          4416.473294280489,
          4435.716926944999,
          4462.658012675312,
          4466.506739208215,
          4497.296551471429,
          4585.817261728174,
          4632.001980122997,
          4651.245612787507,
          4693.581604649427,
          4708.976510781034,
          4755.161229175857,
          4759.00995570876,
          4820.58958023519,
          4874.471751695817,
          4874.471751695817,
          4939.900102755149,
          4955.295008886758,
          4955.295008886758,
          4955.295008886758,
          4955.295008886758,
          4955.295008886758,
          4955.295008886758,
          4955.295008886758,
          4955.295008886758,
          4955.295008886758,
          4955.295008886758,
          4955.295008886758,
          4959.143735419659,
          4959.143735419659,
          4959.143735419659,
          4962.992461952561,
          4962.992461952561,
          4962.992461952561,
          4970.689915018365,
          4978.38736808417,
          4982.23609461707,
          4997.631000748679,
          4997.631000748679,
          5024.572086478993,
          5043.815719143502,
          5074.605531406716,
          5090.000437538325,
          5101.54661713703,
          5105.395343669932,
          5109.244070202834,
          5120.790249801539,
          5124.638976334441,
          5124.638976334441,
          5124.638976334441,
          5124.638976334441,
          5124.638976334441,
          5132.336429400246,
          5140.03388246605,
          5170.823694729264,
          5205.4622335253825,
          5213.159686591185,
          5220.85713965699,
          5236.252045788597,
          5240.100772321499,
          5247.798225387303,
          5251.6469519202055,
          5282.43676418342,
          5309.377849913733,
          5317.075302979538,
          5340.167662176949,
          5347.865115242754,
          5347.865115242754,
          5347.865115242754,
          5347.865115242754,
          5347.865115242754,
          5347.865115242754,
          5347.865115242754,
          5347.865115242754,
          5363.260021374361,
          5363.260021374361,
          5367.108747907263,
          5378.654927505968,
          5386.352380571772,
          5390.2011071046745,
          5390.2011071046745,
          5394.049833637577,
          5401.747286703379,
          5413.293466302086,
          5436.3858254994975,
          5440.2345520324,
          5444.0832785653,
          5455.629458164007,
          5471.024364295614,
          5509.511629624634,
          5509.511629624634,
          5509.511629624634,
          5509.511629624634,
          5509.511629624634,
          5544.150168420751,
          5555.696348019457,
          5567.242527618162,
          5567.242527618162,
          5567.242527618162,
          5601.88106641428,
          5601.88106641428,
          5624.973425611692,
          5632.670878677494,
          5636.519605210397,
          5636.519605210397,
          5655.763237874906,
          5667.3094174736125,
          5682.7043236052195,
          5698.099229736827,
          5705.796682802631,
          5728.8890420000425,
          5732.737768532945,
          5740.435221598749,
          5836.653384921296,
          5852.0482910529045,
          5855.897017585807,
          5855.897017585807,
          5871.291923717414,
          5890.535556381923,
          5909.779189046432,
          5932.871548243844,
          5940.569001309648,
          5952.115180908353,
          5952.115180908353,
          5963.66136050706,
          5971.358813572864,
          5975.207540105765,
          5986.753719704471,
          5994.451172770276,
          6029.089711566392,
          6040.635891165099,
          6040.635891165099,
          6048.333344230901,
          6048.333344230901,
          6048.333344230901,
          6048.333344230901,
          6048.333344230901,
          6048.333344230901,
          6056.030797296706,
          6067.576976895411,
          6082.971883027019,
          6082.971883027019,
          6117.610421823136,
          6136.854054487645,
          6148.400234086352,
          6156.097687152156,
          6186.88749941537,
          6198.433679014077,
          6202.282405546979,
          6202.282405546979,
          6206.1311320798795,
          6217.677311678586,
          6256.164577007605,
          6260.013303540507,
          6313.895475001134,
          6317.744201534037,
          6329.2903811327415,
          6360.080193395957,
          6363.92891992886,
          6390.870005659173,
          6410.113638323683,
          6410.113638323683,
          6425.50854445529,
          6440.903450586897,
          6448.600903652701,
          6471.693262850113,
          6502.483075113329,
          6537.121613909445,
          6540.970340442347,
          6540.970340442347,
          6540.970340442347,
          6591.003785370072,
          6594.852511902975,
          6610.247418034582,
          6614.096144567484,
          6625.642324166189,
          6625.642324166189,
          6648.7346833636,
          6652.583409896502,
          6679.524495626816,
          6691.070675225523,
          6698.768128291325,
          6706.46558135713,
          6714.163034422934,
          6721.860487488737,
          6725.709214021639,
          6756.499026284855,
          6756.499026284855,
          6775.742658949364,
          6791.137565080971,
          6798.835018146776,
          6806.53247121258,
          6814.229924278383,
          6818.078650811285,
          6825.77610387709,
          6945.086626397049,
          6956.632805995754,
          6960.481532528656,
          6983.573891726068,
          7002.817524390577,
          7037.456063186695,
          7106.73314077893,
          7118.279320377635,
          7129.825499976341,
          7141.371679575046,
          7179.858944904065,
          7202.951304101476,
          7202.951304101476,
          7256.833475562104,
          7279.925834759515,
          7329.95927968724,
          7337.656732753045,
          7356.900365417554,
          7437.723622608493,
          7449.2698022072,
          7499.303247134925,
          7499.303247134925,
          7503.151973667826,
          7507.000700200728,
          7518.5468797994345,
          7518.5468797994345,
          7522.395606332337,
          7526.244332865237,
          7530.093059398139,
          7545.487965529748,
          7560.882871661355,
          7580.1265043258645,
          7595.521410457472,
          7664.798488049706,
          7672.4959411155105,
          7680.193394181315,
          7687.890847247118,
          7695.588300312922,
          7726.378112576138,
          7768.714104438059,
          7807.201369767077,
          7814.898822832882,
          7907.268259622528,
          8003.486422945076,
          8011.1838760108785,
          8022.730055609585,
          8030.42750867539,
          8038.124961741192,
          8053.519867872801,
          8065.066047471506,
          8088.158406668917,
          8149.7380311953475,
          8176.679116925661,
          8192.07402305727,
          8219.015108787582,
          8299.838365978523,
          8372.96417010366,
          8384.510349702365,
          8419.148888498483,
          8422.997615031385,
          8449.938700761697,
          8488.425966090717,
          8511.518325288129,
          8519.215778353931,
          8569.249223281657,
          8638.526300873891,
          8646.223753939696,
          8711.652104999028,
          8800.172815255772,
          8811.718994854478,
          8830.962627518988,
          8842.508807117692,
          8857.903713249301,
          8938.72697044024,
          8938.72697044024,
          8961.819329637652,
          8973.365509236359,
          8981.062962302161,
          9027.247680696984,
          9050.340039894396,
          9081.129852157612,
          9135.01202361824,
          9169.650562414356,
          9169.650562414356,
          9208.137827743376,
          9219.68400734208,
          9227.381460407885,
          9227.381460407885,
          9250.473819605297,
          9262.019999204002,
          9338.99452986204,
          9369.784342125256,
          9377.481795191059,
          9389.027974789766,
          9400.57415438847,
          9446.758872783294,
          9462.153778914902,
          9535.279583040037,
          9573.766848369058,
          9589.161754500665,
          9593.010481033567,
          9627.649019829683,
          9681.53119129031,
          9727.715909685134,
          9746.959542349643,
          9789.295534211564,
          9916.303509797328,
          9997.126766988267,
          10039.46275885019,
          10043.31148538309,
          10120.28601604113,
          10124.134742574031,
          10135.680922172736,
          10204.95799976497,
          10289.629983488814,
          10308.873616153323,
          10343.51215494944,
          10443.57904480489,
          10470.520130535204,
          10528.251028528732,
          10639.864097982889,
          10682.20008984481,
          10782.266979700258,
          10836.149151160886,
          10870.787689957004,
          10909.274955286022,
          10909.274955286022,
          10967.00585327955,
          11005.49311860857,
          11040.131657404687,
          11117.106188062726,
          11120.954914595628,
          11274.903975911704,
          11309.542514707822,
          11344.181053503939,
          11355.727233102645,
          11374.970865767154,
          11559.709739346446,
          11628.986816938681,
          11694.415167998013,
          11963.826025301147,
          11963.826025301147,
          12071.590368222402,
          12213.993249939771,
          12240.934335670085,
          12287.119054064908,
          12348.69867859134,
          12383.337217387456,
          12410.27830311777,
          12468.009201111297,
          12610.412082828669,
          12648.899348157689,
          12737.420058414433,
          12810.54586253957,
          12860.579307467293,
          12895.217846263411,
          12902.915299329215,
          12960.646197322743,
          12991.43600958596,
          13206.964695428465,
          13553.350083389638,
          13626.475887514775,
          13645.719520179284,
          13664.963152843795,
          14007.499814272065,
          14269.213218509394,
          14361.58265529904,
          14415.464826759668,
          14615.598606470568,
          15169.815227208444,
          15539.292974367028,
          15677.847129551497
         ],
         "yaxis": "y"
        }
       ],
       "layout": {
        "coloraxis": {
         "colorbar": {
          "title": {
           "text": "VeryActiveMinutes"
          }
         },
         "colorscale": [
          [
           0,
           "#0d0887"
          ],
          [
           0.1111111111111111,
           "#46039f"
          ],
          [
           0.2222222222222222,
           "#7201a8"
          ],
          [
           0.3333333333333333,
           "#9c179e"
          ],
          [
           0.4444444444444444,
           "#bd3786"
          ],
          [
           0.5555555555555556,
           "#d8576b"
          ],
          [
           0.6666666666666666,
           "#ed7953"
          ],
          [
           0.7777777777777778,
           "#fb9f3a"
          ],
          [
           0.8888888888888888,
           "#fdca26"
          ],
          [
           1,
           "#f0f921"
          ]
         ]
        },
        "legend": {
         "itemsizing": "constant",
         "tracegroupgap": 0
        },
        "template": {
         "data": {
          "bar": [
           {
            "error_x": {
             "color": "#2a3f5f"
            },
            "error_y": {
             "color": "#2a3f5f"
            },
            "marker": {
             "line": {
              "color": "#E5ECF6",
              "width": 0.5
             },
             "pattern": {
              "fillmode": "overlay",
              "size": 10,
              "solidity": 0.2
             }
            },
            "type": "bar"
           }
          ],
          "barpolar": [
           {
            "marker": {
             "line": {
              "color": "#E5ECF6",
              "width": 0.5
             },
             "pattern": {
              "fillmode": "overlay",
              "size": 10,
              "solidity": 0.2
             }
            },
            "type": "barpolar"
           }
          ],
          "carpet": [
           {
            "aaxis": {
             "endlinecolor": "#2a3f5f",
             "gridcolor": "white",
             "linecolor": "white",
             "minorgridcolor": "white",
             "startlinecolor": "#2a3f5f"
            },
            "baxis": {
             "endlinecolor": "#2a3f5f",
             "gridcolor": "white",
             "linecolor": "white",
             "minorgridcolor": "white",
             "startlinecolor": "#2a3f5f"
            },
            "type": "carpet"
           }
          ],
          "choropleth": [
           {
            "colorbar": {
             "outlinewidth": 0,
             "ticks": ""
            },
            "type": "choropleth"
           }
          ],
          "contour": [
           {
            "colorbar": {
             "outlinewidth": 0,
             "ticks": ""
            },
            "colorscale": [
             [
              0,
              "#0d0887"
             ],
             [
              0.1111111111111111,
              "#46039f"
             ],
             [
              0.2222222222222222,
              "#7201a8"
             ],
             [
              0.3333333333333333,
              "#9c179e"
             ],
             [
              0.4444444444444444,
              "#bd3786"
             ],
             [
              0.5555555555555556,
              "#d8576b"
             ],
             [
              0.6666666666666666,
              "#ed7953"
             ],
             [
              0.7777777777777778,
              "#fb9f3a"
             ],
             [
              0.8888888888888888,
              "#fdca26"
             ],
             [
              1,
              "#f0f921"
             ]
            ],
            "type": "contour"
           }
          ],
          "contourcarpet": [
           {
            "colorbar": {
             "outlinewidth": 0,
             "ticks": ""
            },
            "type": "contourcarpet"
           }
          ],
          "heatmap": [
           {
            "colorbar": {
             "outlinewidth": 0,
             "ticks": ""
            },
            "colorscale": [
             [
              0,
              "#0d0887"
             ],
             [
              0.1111111111111111,
              "#46039f"
             ],
             [
              0.2222222222222222,
              "#7201a8"
             ],
             [
              0.3333333333333333,
              "#9c179e"
             ],
             [
              0.4444444444444444,
              "#bd3786"
             ],
             [
              0.5555555555555556,
              "#d8576b"
             ],
             [
              0.6666666666666666,
              "#ed7953"
             ],
             [
              0.7777777777777778,
              "#fb9f3a"
             ],
             [
              0.8888888888888888,
              "#fdca26"
             ],
             [
              1,
              "#f0f921"
             ]
            ],
            "type": "heatmap"
           }
          ],
          "heatmapgl": [
           {
            "colorbar": {
             "outlinewidth": 0,
             "ticks": ""
            },
            "colorscale": [
             [
              0,
              "#0d0887"
             ],
             [
              0.1111111111111111,
              "#46039f"
             ],
             [
              0.2222222222222222,
              "#7201a8"
             ],
             [
              0.3333333333333333,
              "#9c179e"
             ],
             [
              0.4444444444444444,
              "#bd3786"
             ],
             [
              0.5555555555555556,
              "#d8576b"
             ],
             [
              0.6666666666666666,
              "#ed7953"
             ],
             [
              0.7777777777777778,
              "#fb9f3a"
             ],
             [
              0.8888888888888888,
              "#fdca26"
             ],
             [
              1,
              "#f0f921"
             ]
            ],
            "type": "heatmapgl"
           }
          ],
          "histogram": [
           {
            "marker": {
             "pattern": {
              "fillmode": "overlay",
              "size": 10,
              "solidity": 0.2
             }
            },
            "type": "histogram"
           }
          ],
          "histogram2d": [
           {
            "colorbar": {
             "outlinewidth": 0,
             "ticks": ""
            },
            "colorscale": [
             [
              0,
              "#0d0887"
             ],
             [
              0.1111111111111111,
              "#46039f"
             ],
             [
              0.2222222222222222,
              "#7201a8"
             ],
             [
              0.3333333333333333,
              "#9c179e"
             ],
             [
              0.4444444444444444,
              "#bd3786"
             ],
             [
              0.5555555555555556,
              "#d8576b"
             ],
             [
              0.6666666666666666,
              "#ed7953"
             ],
             [
              0.7777777777777778,
              "#fb9f3a"
             ],
             [
              0.8888888888888888,
              "#fdca26"
             ],
             [
              1,
              "#f0f921"
             ]
            ],
            "type": "histogram2d"
           }
          ],
          "histogram2dcontour": [
           {
            "colorbar": {
             "outlinewidth": 0,
             "ticks": ""
            },
            "colorscale": [
             [
              0,
              "#0d0887"
             ],
             [
              0.1111111111111111,
              "#46039f"
             ],
             [
              0.2222222222222222,
              "#7201a8"
             ],
             [
              0.3333333333333333,
              "#9c179e"
             ],
             [
              0.4444444444444444,
              "#bd3786"
             ],
             [
              0.5555555555555556,
              "#d8576b"
             ],
             [
              0.6666666666666666,
              "#ed7953"
             ],
             [
              0.7777777777777778,
              "#fb9f3a"
             ],
             [
              0.8888888888888888,
              "#fdca26"
             ],
             [
              1,
              "#f0f921"
             ]
            ],
            "type": "histogram2dcontour"
           }
          ],
          "mesh3d": [
           {
            "colorbar": {
             "outlinewidth": 0,
             "ticks": ""
            },
            "type": "mesh3d"
           }
          ],
          "parcoords": [
           {
            "line": {
             "colorbar": {
              "outlinewidth": 0,
              "ticks": ""
             }
            },
            "type": "parcoords"
           }
          ],
          "pie": [
           {
            "automargin": true,
            "type": "pie"
           }
          ],
          "scatter": [
           {
            "fillpattern": {
             "fillmode": "overlay",
             "size": 10,
             "solidity": 0.2
            },
            "type": "scatter"
           }
          ],
          "scatter3d": [
           {
            "line": {
             "colorbar": {
              "outlinewidth": 0,
              "ticks": ""
             }
            },
            "marker": {
             "colorbar": {
              "outlinewidth": 0,
              "ticks": ""
             }
            },
            "type": "scatter3d"
           }
          ],
          "scattercarpet": [
           {
            "marker": {
             "colorbar": {
              "outlinewidth": 0,
              "ticks": ""
             }
            },
            "type": "scattercarpet"
           }
          ],
          "scattergeo": [
           {
            "marker": {
             "colorbar": {
              "outlinewidth": 0,
              "ticks": ""
             }
            },
            "type": "scattergeo"
           }
          ],
          "scattergl": [
           {
            "marker": {
             "colorbar": {
              "outlinewidth": 0,
              "ticks": ""
             }
            },
            "type": "scattergl"
           }
          ],
          "scattermapbox": [
           {
            "marker": {
             "colorbar": {
              "outlinewidth": 0,
              "ticks": ""
             }
            },
            "type": "scattermapbox"
           }
          ],
          "scatterpolar": [
           {
            "marker": {
             "colorbar": {
              "outlinewidth": 0,
              "ticks": ""
             }
            },
            "type": "scatterpolar"
           }
          ],
          "scatterpolargl": [
           {
            "marker": {
             "colorbar": {
              "outlinewidth": 0,
              "ticks": ""
             }
            },
            "type": "scatterpolargl"
           }
          ],
          "scatterternary": [
           {
            "marker": {
             "colorbar": {
              "outlinewidth": 0,
              "ticks": ""
             }
            },
            "type": "scatterternary"
           }
          ],
          "surface": [
           {
            "colorbar": {
             "outlinewidth": 0,
             "ticks": ""
            },
            "colorscale": [
             [
              0,
              "#0d0887"
             ],
             [
              0.1111111111111111,
              "#46039f"
             ],
             [
              0.2222222222222222,
              "#7201a8"
             ],
             [
              0.3333333333333333,
              "#9c179e"
             ],
             [
              0.4444444444444444,
              "#bd3786"
             ],
             [
              0.5555555555555556,
              "#d8576b"
             ],
             [
              0.6666666666666666,
              "#ed7953"
             ],
             [
              0.7777777777777778,
              "#fb9f3a"
             ],
             [
              0.8888888888888888,
              "#fdca26"
             ],
             [
              1,
              "#f0f921"
             ]
            ],
            "type": "surface"
           }
          ],
          "table": [
           {
            "cells": {
             "fill": {
              "color": "#EBF0F8"
             },
             "line": {
              "color": "white"
             }
            },
            "header": {
             "fill": {
              "color": "#C8D4E3"
             },
             "line": {
              "color": "white"
             }
            },
            "type": "table"
           }
          ]
         },
         "layout": {
          "annotationdefaults": {
           "arrowcolor": "#2a3f5f",
           "arrowhead": 0,
           "arrowwidth": 1
          },
          "autotypenumbers": "strict",
          "coloraxis": {
           "colorbar": {
            "outlinewidth": 0,
            "ticks": ""
           }
          },
          "colorscale": {
           "diverging": [
            [
             0,
             "#8e0152"
            ],
            [
             0.1,
             "#c51b7d"
            ],
            [
             0.2,
             "#de77ae"
            ],
            [
             0.3,
             "#f1b6da"
            ],
            [
             0.4,
             "#fde0ef"
            ],
            [
             0.5,
             "#f7f7f7"
            ],
            [
             0.6,
             "#e6f5d0"
            ],
            [
             0.7,
             "#b8e186"
            ],
            [
             0.8,
             "#7fbc41"
            ],
            [
             0.9,
             "#4d9221"
            ],
            [
             1,
             "#276419"
            ]
           ],
           "sequential": [
            [
             0,
             "#0d0887"
            ],
            [
             0.1111111111111111,
             "#46039f"
            ],
            [
             0.2222222222222222,
             "#7201a8"
            ],
            [
             0.3333333333333333,
             "#9c179e"
            ],
            [
             0.4444444444444444,
             "#bd3786"
            ],
            [
             0.5555555555555556,
             "#d8576b"
            ],
            [
             0.6666666666666666,
             "#ed7953"
            ],
            [
             0.7777777777777778,
             "#fb9f3a"
            ],
            [
             0.8888888888888888,
             "#fdca26"
            ],
            [
             1,
             "#f0f921"
            ]
           ],
           "sequentialminus": [
            [
             0,
             "#0d0887"
            ],
            [
             0.1111111111111111,
             "#46039f"
            ],
            [
             0.2222222222222222,
             "#7201a8"
            ],
            [
             0.3333333333333333,
             "#9c179e"
            ],
            [
             0.4444444444444444,
             "#bd3786"
            ],
            [
             0.5555555555555556,
             "#d8576b"
            ],
            [
             0.6666666666666666,
             "#ed7953"
            ],
            [
             0.7777777777777778,
             "#fb9f3a"
            ],
            [
             0.8888888888888888,
             "#fdca26"
            ],
            [
             1,
             "#f0f921"
            ]
           ]
          },
          "colorway": [
           "#636efa",
           "#EF553B",
           "#00cc96",
           "#ab63fa",
           "#FFA15A",
           "#19d3f3",
           "#FF6692",
           "#B6E880",
           "#FF97FF",
           "#FECB52"
          ],
          "font": {
           "color": "#2a3f5f"
          },
          "geo": {
           "bgcolor": "white",
           "lakecolor": "white",
           "landcolor": "#E5ECF6",
           "showlakes": true,
           "showland": true,
           "subunitcolor": "white"
          },
          "hoverlabel": {
           "align": "left"
          },
          "hovermode": "closest",
          "mapbox": {
           "style": "light"
          },
          "paper_bgcolor": "white",
          "plot_bgcolor": "#E5ECF6",
          "polar": {
           "angularaxis": {
            "gridcolor": "white",
            "linecolor": "white",
            "ticks": ""
           },
           "bgcolor": "#E5ECF6",
           "radialaxis": {
            "gridcolor": "white",
            "linecolor": "white",
            "ticks": ""
           }
          },
          "scene": {
           "xaxis": {
            "backgroundcolor": "#E5ECF6",
            "gridcolor": "white",
            "gridwidth": 2,
            "linecolor": "white",
            "showbackground": true,
            "ticks": "",
            "zerolinecolor": "white"
           },
           "yaxis": {
            "backgroundcolor": "#E5ECF6",
            "gridcolor": "white",
            "gridwidth": 2,
            "linecolor": "white",
            "showbackground": true,
            "ticks": "",
            "zerolinecolor": "white"
           },
           "zaxis": {
            "backgroundcolor": "#E5ECF6",
            "gridcolor": "white",
            "gridwidth": 2,
            "linecolor": "white",
            "showbackground": true,
            "ticks": "",
            "zerolinecolor": "white"
           }
          },
          "shapedefaults": {
           "line": {
            "color": "#2a3f5f"
           }
          },
          "ternary": {
           "aaxis": {
            "gridcolor": "white",
            "linecolor": "white",
            "ticks": ""
           },
           "baxis": {
            "gridcolor": "white",
            "linecolor": "white",
            "ticks": ""
           },
           "bgcolor": "#E5ECF6",
           "caxis": {
            "gridcolor": "white",
            "linecolor": "white",
            "ticks": ""
           }
          },
          "title": {
           "x": 0.05
          },
          "xaxis": {
           "automargin": true,
           "gridcolor": "white",
           "linecolor": "white",
           "ticks": "",
           "title": {
            "standoff": 15
           },
           "zerolinecolor": "white",
           "zerolinewidth": 2
          },
          "yaxis": {
           "automargin": true,
           "gridcolor": "white",
           "linecolor": "white",
           "ticks": "",
           "title": {
            "standoff": 15
           },
           "zerolinecolor": "white",
           "zerolinewidth": 2
          }
         }
        },
        "title": {
         "text": "Relationship between Calories & Total Steps"
        },
        "xaxis": {
         "anchor": "y",
         "domain": [
          0,
          1
         ],
         "title": {
          "text": "Calories"
         }
        },
        "yaxis": {
         "anchor": "x",
         "domain": [
          0,
          1
         ],
         "title": {
          "text": "TotalSteps"
         }
        }
       }
      }
     },
     "metadata": {},
     "output_type": "display_data"
    }
   ],
   "source": [
    "\n",
    "figure = px.scatter(\n",
    "    data_frame=data, \n",
    "    x=\"Calories\", \n",
    "    y=\"TotalSteps\", \n",
    "    size=\"VeryActiveMinutes\", \n",
    "    trendline=\"ols\", \n",
    "    title=\"Relationship between Calories & Total Steps\",\n",
    "    color=\"VeryActiveMinutes\"  # Color points based on 'VeryActiveMinutes'\n",
    ")\n",
    "\n",
    "figure.show()\n"
   ]
  },
  {
   "cell_type": "markdown",
   "metadata": {},
   "source": [
    "You can see that there is a linear relationship between the total number of steps and the number of calories burned in a day"
   ]
  },
  {
   "cell_type": "markdown",
   "metadata": {},
   "source": [
    "Now let’s look at the average total number of active minutes in a day"
   ]
  },
  {
   "cell_type": "code",
   "execution_count": 11,
   "metadata": {},
   "outputs": [
    {
     "data": {
      "application/vnd.plotly.v1+json": {
       "config": {
        "plotlyServerURL": "https://plot.ly"
       },
       "data": [
        {
         "hoverinfo": "label+percent",
         "labels": [
          "Very Active Minutes",
          "Fairly Active Minutes",
          "Lightly Active Minutes",
          "Inactive Minutes"
         ],
         "marker": {
          "colors": [
           "gold",
           "lightgreen",
           "pink",
           "blue"
          ],
          "line": {
           "color": "black",
           "width": 3
          }
         },
         "textfont": {
          "size": 30
         },
         "textinfo": "value",
         "type": "pie",
         "values": [
          16.62363238512035,
          13.070021881838075,
          170.07002188183807,
          995.2822757111597
         ]
        }
       ],
       "layout": {
        "template": {
         "data": {
          "bar": [
           {
            "error_x": {
             "color": "#2a3f5f"
            },
            "error_y": {
             "color": "#2a3f5f"
            },
            "marker": {
             "line": {
              "color": "#E5ECF6",
              "width": 0.5
             },
             "pattern": {
              "fillmode": "overlay",
              "size": 10,
              "solidity": 0.2
             }
            },
            "type": "bar"
           }
          ],
          "barpolar": [
           {
            "marker": {
             "line": {
              "color": "#E5ECF6",
              "width": 0.5
             },
             "pattern": {
              "fillmode": "overlay",
              "size": 10,
              "solidity": 0.2
             }
            },
            "type": "barpolar"
           }
          ],
          "carpet": [
           {
            "aaxis": {
             "endlinecolor": "#2a3f5f",
             "gridcolor": "white",
             "linecolor": "white",
             "minorgridcolor": "white",
             "startlinecolor": "#2a3f5f"
            },
            "baxis": {
             "endlinecolor": "#2a3f5f",
             "gridcolor": "white",
             "linecolor": "white",
             "minorgridcolor": "white",
             "startlinecolor": "#2a3f5f"
            },
            "type": "carpet"
           }
          ],
          "choropleth": [
           {
            "colorbar": {
             "outlinewidth": 0,
             "ticks": ""
            },
            "type": "choropleth"
           }
          ],
          "contour": [
           {
            "colorbar": {
             "outlinewidth": 0,
             "ticks": ""
            },
            "colorscale": [
             [
              0,
              "#0d0887"
             ],
             [
              0.1111111111111111,
              "#46039f"
             ],
             [
              0.2222222222222222,
              "#7201a8"
             ],
             [
              0.3333333333333333,
              "#9c179e"
             ],
             [
              0.4444444444444444,
              "#bd3786"
             ],
             [
              0.5555555555555556,
              "#d8576b"
             ],
             [
              0.6666666666666666,
              "#ed7953"
             ],
             [
              0.7777777777777778,
              "#fb9f3a"
             ],
             [
              0.8888888888888888,
              "#fdca26"
             ],
             [
              1,
              "#f0f921"
             ]
            ],
            "type": "contour"
           }
          ],
          "contourcarpet": [
           {
            "colorbar": {
             "outlinewidth": 0,
             "ticks": ""
            },
            "type": "contourcarpet"
           }
          ],
          "heatmap": [
           {
            "colorbar": {
             "outlinewidth": 0,
             "ticks": ""
            },
            "colorscale": [
             [
              0,
              "#0d0887"
             ],
             [
              0.1111111111111111,
              "#46039f"
             ],
             [
              0.2222222222222222,
              "#7201a8"
             ],
             [
              0.3333333333333333,
              "#9c179e"
             ],
             [
              0.4444444444444444,
              "#bd3786"
             ],
             [
              0.5555555555555556,
              "#d8576b"
             ],
             [
              0.6666666666666666,
              "#ed7953"
             ],
             [
              0.7777777777777778,
              "#fb9f3a"
             ],
             [
              0.8888888888888888,
              "#fdca26"
             ],
             [
              1,
              "#f0f921"
             ]
            ],
            "type": "heatmap"
           }
          ],
          "heatmapgl": [
           {
            "colorbar": {
             "outlinewidth": 0,
             "ticks": ""
            },
            "colorscale": [
             [
              0,
              "#0d0887"
             ],
             [
              0.1111111111111111,
              "#46039f"
             ],
             [
              0.2222222222222222,
              "#7201a8"
             ],
             [
              0.3333333333333333,
              "#9c179e"
             ],
             [
              0.4444444444444444,
              "#bd3786"
             ],
             [
              0.5555555555555556,
              "#d8576b"
             ],
             [
              0.6666666666666666,
              "#ed7953"
             ],
             [
              0.7777777777777778,
              "#fb9f3a"
             ],
             [
              0.8888888888888888,
              "#fdca26"
             ],
             [
              1,
              "#f0f921"
             ]
            ],
            "type": "heatmapgl"
           }
          ],
          "histogram": [
           {
            "marker": {
             "pattern": {
              "fillmode": "overlay",
              "size": 10,
              "solidity": 0.2
             }
            },
            "type": "histogram"
           }
          ],
          "histogram2d": [
           {
            "colorbar": {
             "outlinewidth": 0,
             "ticks": ""
            },
            "colorscale": [
             [
              0,
              "#0d0887"
             ],
             [
              0.1111111111111111,
              "#46039f"
             ],
             [
              0.2222222222222222,
              "#7201a8"
             ],
             [
              0.3333333333333333,
              "#9c179e"
             ],
             [
              0.4444444444444444,
              "#bd3786"
             ],
             [
              0.5555555555555556,
              "#d8576b"
             ],
             [
              0.6666666666666666,
              "#ed7953"
             ],
             [
              0.7777777777777778,
              "#fb9f3a"
             ],
             [
              0.8888888888888888,
              "#fdca26"
             ],
             [
              1,
              "#f0f921"
             ]
            ],
            "type": "histogram2d"
           }
          ],
          "histogram2dcontour": [
           {
            "colorbar": {
             "outlinewidth": 0,
             "ticks": ""
            },
            "colorscale": [
             [
              0,
              "#0d0887"
             ],
             [
              0.1111111111111111,
              "#46039f"
             ],
             [
              0.2222222222222222,
              "#7201a8"
             ],
             [
              0.3333333333333333,
              "#9c179e"
             ],
             [
              0.4444444444444444,
              "#bd3786"
             ],
             [
              0.5555555555555556,
              "#d8576b"
             ],
             [
              0.6666666666666666,
              "#ed7953"
             ],
             [
              0.7777777777777778,
              "#fb9f3a"
             ],
             [
              0.8888888888888888,
              "#fdca26"
             ],
             [
              1,
              "#f0f921"
             ]
            ],
            "type": "histogram2dcontour"
           }
          ],
          "mesh3d": [
           {
            "colorbar": {
             "outlinewidth": 0,
             "ticks": ""
            },
            "type": "mesh3d"
           }
          ],
          "parcoords": [
           {
            "line": {
             "colorbar": {
              "outlinewidth": 0,
              "ticks": ""
             }
            },
            "type": "parcoords"
           }
          ],
          "pie": [
           {
            "automargin": true,
            "type": "pie"
           }
          ],
          "scatter": [
           {
            "fillpattern": {
             "fillmode": "overlay",
             "size": 10,
             "solidity": 0.2
            },
            "type": "scatter"
           }
          ],
          "scatter3d": [
           {
            "line": {
             "colorbar": {
              "outlinewidth": 0,
              "ticks": ""
             }
            },
            "marker": {
             "colorbar": {
              "outlinewidth": 0,
              "ticks": ""
             }
            },
            "type": "scatter3d"
           }
          ],
          "scattercarpet": [
           {
            "marker": {
             "colorbar": {
              "outlinewidth": 0,
              "ticks": ""
             }
            },
            "type": "scattercarpet"
           }
          ],
          "scattergeo": [
           {
            "marker": {
             "colorbar": {
              "outlinewidth": 0,
              "ticks": ""
             }
            },
            "type": "scattergeo"
           }
          ],
          "scattergl": [
           {
            "marker": {
             "colorbar": {
              "outlinewidth": 0,
              "ticks": ""
             }
            },
            "type": "scattergl"
           }
          ],
          "scattermapbox": [
           {
            "marker": {
             "colorbar": {
              "outlinewidth": 0,
              "ticks": ""
             }
            },
            "type": "scattermapbox"
           }
          ],
          "scatterpolar": [
           {
            "marker": {
             "colorbar": {
              "outlinewidth": 0,
              "ticks": ""
             }
            },
            "type": "scatterpolar"
           }
          ],
          "scatterpolargl": [
           {
            "marker": {
             "colorbar": {
              "outlinewidth": 0,
              "ticks": ""
             }
            },
            "type": "scatterpolargl"
           }
          ],
          "scatterternary": [
           {
            "marker": {
             "colorbar": {
              "outlinewidth": 0,
              "ticks": ""
             }
            },
            "type": "scatterternary"
           }
          ],
          "surface": [
           {
            "colorbar": {
             "outlinewidth": 0,
             "ticks": ""
            },
            "colorscale": [
             [
              0,
              "#0d0887"
             ],
             [
              0.1111111111111111,
              "#46039f"
             ],
             [
              0.2222222222222222,
              "#7201a8"
             ],
             [
              0.3333333333333333,
              "#9c179e"
             ],
             [
              0.4444444444444444,
              "#bd3786"
             ],
             [
              0.5555555555555556,
              "#d8576b"
             ],
             [
              0.6666666666666666,
              "#ed7953"
             ],
             [
              0.7777777777777778,
              "#fb9f3a"
             ],
             [
              0.8888888888888888,
              "#fdca26"
             ],
             [
              1,
              "#f0f921"
             ]
            ],
            "type": "surface"
           }
          ],
          "table": [
           {
            "cells": {
             "fill": {
              "color": "#EBF0F8"
             },
             "line": {
              "color": "white"
             }
            },
            "header": {
             "fill": {
              "color": "#C8D4E3"
             },
             "line": {
              "color": "white"
             }
            },
            "type": "table"
           }
          ]
         },
         "layout": {
          "annotationdefaults": {
           "arrowcolor": "#2a3f5f",
           "arrowhead": 0,
           "arrowwidth": 1
          },
          "autotypenumbers": "strict",
          "coloraxis": {
           "colorbar": {
            "outlinewidth": 0,
            "ticks": ""
           }
          },
          "colorscale": {
           "diverging": [
            [
             0,
             "#8e0152"
            ],
            [
             0.1,
             "#c51b7d"
            ],
            [
             0.2,
             "#de77ae"
            ],
            [
             0.3,
             "#f1b6da"
            ],
            [
             0.4,
             "#fde0ef"
            ],
            [
             0.5,
             "#f7f7f7"
            ],
            [
             0.6,
             "#e6f5d0"
            ],
            [
             0.7,
             "#b8e186"
            ],
            [
             0.8,
             "#7fbc41"
            ],
            [
             0.9,
             "#4d9221"
            ],
            [
             1,
             "#276419"
            ]
           ],
           "sequential": [
            [
             0,
             "#0d0887"
            ],
            [
             0.1111111111111111,
             "#46039f"
            ],
            [
             0.2222222222222222,
             "#7201a8"
            ],
            [
             0.3333333333333333,
             "#9c179e"
            ],
            [
             0.4444444444444444,
             "#bd3786"
            ],
            [
             0.5555555555555556,
             "#d8576b"
            ],
            [
             0.6666666666666666,
             "#ed7953"
            ],
            [
             0.7777777777777778,
             "#fb9f3a"
            ],
            [
             0.8888888888888888,
             "#fdca26"
            ],
            [
             1,
             "#f0f921"
            ]
           ],
           "sequentialminus": [
            [
             0,
             "#0d0887"
            ],
            [
             0.1111111111111111,
             "#46039f"
            ],
            [
             0.2222222222222222,
             "#7201a8"
            ],
            [
             0.3333333333333333,
             "#9c179e"
            ],
            [
             0.4444444444444444,
             "#bd3786"
            ],
            [
             0.5555555555555556,
             "#d8576b"
            ],
            [
             0.6666666666666666,
             "#ed7953"
            ],
            [
             0.7777777777777778,
             "#fb9f3a"
            ],
            [
             0.8888888888888888,
             "#fdca26"
            ],
            [
             1,
             "#f0f921"
            ]
           ]
          },
          "colorway": [
           "#636efa",
           "#EF553B",
           "#00cc96",
           "#ab63fa",
           "#FFA15A",
           "#19d3f3",
           "#FF6692",
           "#B6E880",
           "#FF97FF",
           "#FECB52"
          ],
          "font": {
           "color": "#2a3f5f"
          },
          "geo": {
           "bgcolor": "white",
           "lakecolor": "white",
           "landcolor": "#E5ECF6",
           "showlakes": true,
           "showland": true,
           "subunitcolor": "white"
          },
          "hoverlabel": {
           "align": "left"
          },
          "hovermode": "closest",
          "mapbox": {
           "style": "light"
          },
          "paper_bgcolor": "white",
          "plot_bgcolor": "#E5ECF6",
          "polar": {
           "angularaxis": {
            "gridcolor": "white",
            "linecolor": "white",
            "ticks": ""
           },
           "bgcolor": "#E5ECF6",
           "radialaxis": {
            "gridcolor": "white",
            "linecolor": "white",
            "ticks": ""
           }
          },
          "scene": {
           "xaxis": {
            "backgroundcolor": "#E5ECF6",
            "gridcolor": "white",
            "gridwidth": 2,
            "linecolor": "white",
            "showbackground": true,
            "ticks": "",
            "zerolinecolor": "white"
           },
           "yaxis": {
            "backgroundcolor": "#E5ECF6",
            "gridcolor": "white",
            "gridwidth": 2,
            "linecolor": "white",
            "showbackground": true,
            "ticks": "",
            "zerolinecolor": "white"
           },
           "zaxis": {
            "backgroundcolor": "#E5ECF6",
            "gridcolor": "white",
            "gridwidth": 2,
            "linecolor": "white",
            "showbackground": true,
            "ticks": "",
            "zerolinecolor": "white"
           }
          },
          "shapedefaults": {
           "line": {
            "color": "#2a3f5f"
           }
          },
          "ternary": {
           "aaxis": {
            "gridcolor": "white",
            "linecolor": "white",
            "ticks": ""
           },
           "baxis": {
            "gridcolor": "white",
            "linecolor": "white",
            "ticks": ""
           },
           "bgcolor": "#E5ECF6",
           "caxis": {
            "gridcolor": "white",
            "linecolor": "white",
            "ticks": ""
           }
          },
          "title": {
           "x": 0.05
          },
          "xaxis": {
           "automargin": true,
           "gridcolor": "white",
           "linecolor": "white",
           "ticks": "",
           "title": {
            "standoff": 15
           },
           "zerolinecolor": "white",
           "zerolinewidth": 2
          },
          "yaxis": {
           "automargin": true,
           "gridcolor": "white",
           "linecolor": "white",
           "ticks": "",
           "title": {
            "standoff": 15
           },
           "zerolinecolor": "white",
           "zerolinewidth": 2
          }
         }
        },
        "title": {
         "text": "Total Active Minutes"
        }
       }
      }
     },
     "metadata": {},
     "output_type": "display_data"
    }
   ],
   "source": [
    "label = [\"Very Active Minutes\", \"Fairly Active Minutes\", \n",
    "         \"Lightly Active Minutes\", \"Inactive Minutes\"]\n",
    "counts = data[[\"VeryActiveMinutes\", \"FairlyActiveMinutes\", \n",
    "               \"LightlyActiveMinutes\", \"SedentaryMinutes\"]].mean()\n",
    "colors = ['gold','lightgreen', \"pink\", \"blue\"]\n",
    "\n",
    "fig = go.Figure(data=[go.Pie(labels=label, values=counts)])\n",
    "fig.update_layout(title_text='Total Active Minutes')\n",
    "fig.update_traces(hoverinfo='label+percent', textinfo='value', textfont_size=30,\n",
    "                  marker=dict(colors=colors, line=dict(color='black', width=3)))\n",
    "fig.show()"
   ]
  },
  {
   "cell_type": "markdown",
   "metadata": {},
   "source": [
    "Observations:\n",
    "\n",
    "1-81.3% of Total inactive minutes in a day\n",
    "\n",
    "2-15.8% of Lightly active minutes in a day\n",
    "\n",
    "3-On an average, only 21 minutes (1.74%) were very active\n",
    "\n",
    "4-and 1.11% (13 minutes) of fairly active minutes in a day"
   ]
  },
  {
   "cell_type": "markdown",
   "metadata": {},
   "source": [
    "We transformed the data type of the ActivityDate column to the datetime column above. Let’s use it to find the weekdays of the records and add a new column to this dataset as “Day”"
   ]
  },
  {
   "cell_type": "code",
   "execution_count": 12,
   "metadata": {},
   "outputs": [
    {
     "data": {
      "text/plain": [
       "0      Friday\n",
       "1    Saturday\n",
       "2      Sunday\n",
       "3      Monday\n",
       "4     Tuesday\n",
       "Name: Day, dtype: object"
      ]
     },
     "execution_count": 12,
     "metadata": {},
     "output_type": "execute_result"
    }
   ],
   "source": [
    "data[\"Day\"] = data[\"ActivityDate\"].dt.day_name()\n",
    "data[\"Day\"].head()"
   ]
  },
  {
   "cell_type": "code",
   "execution_count": 13,
   "metadata": {},
   "outputs": [
    {
     "data": {
      "text/html": [
       "<div>\n",
       "<style scoped>\n",
       "    .dataframe tbody tr th:only-of-type {\n",
       "        vertical-align: middle;\n",
       "    }\n",
       "\n",
       "    .dataframe tbody tr th {\n",
       "        vertical-align: top;\n",
       "    }\n",
       "\n",
       "    .dataframe thead th {\n",
       "        text-align: right;\n",
       "    }\n",
       "</style>\n",
       "<table border=\"1\" class=\"dataframe\">\n",
       "  <thead>\n",
       "    <tr style=\"text-align: right;\">\n",
       "      <th></th>\n",
       "      <th>Id</th>\n",
       "      <th>ActivityDate</th>\n",
       "      <th>TotalSteps</th>\n",
       "      <th>TotalDistance</th>\n",
       "      <th>TrackerDistance</th>\n",
       "      <th>LoggedActivitiesDistance</th>\n",
       "      <th>VeryActiveDistance</th>\n",
       "      <th>ModeratelyActiveDistance</th>\n",
       "      <th>LightActiveDistance</th>\n",
       "      <th>SedentaryActiveDistance</th>\n",
       "      <th>VeryActiveMinutes</th>\n",
       "      <th>FairlyActiveMinutes</th>\n",
       "      <th>LightlyActiveMinutes</th>\n",
       "      <th>SedentaryMinutes</th>\n",
       "      <th>Calories</th>\n",
       "      <th>TotalMinutes</th>\n",
       "      <th>Day</th>\n",
       "    </tr>\n",
       "  </thead>\n",
       "  <tbody>\n",
       "    <tr>\n",
       "      <th>0</th>\n",
       "      <td>1503960366</td>\n",
       "      <td>2016-03-25</td>\n",
       "      <td>11004</td>\n",
       "      <td>7.11</td>\n",
       "      <td>7.11</td>\n",
       "      <td>0.0</td>\n",
       "      <td>2.57</td>\n",
       "      <td>0.46</td>\n",
       "      <td>4.07</td>\n",
       "      <td>0.0</td>\n",
       "      <td>33</td>\n",
       "      <td>12</td>\n",
       "      <td>205</td>\n",
       "      <td>804</td>\n",
       "      <td>1819</td>\n",
       "      <td>1054</td>\n",
       "      <td>Friday</td>\n",
       "    </tr>\n",
       "    <tr>\n",
       "      <th>1</th>\n",
       "      <td>1503960366</td>\n",
       "      <td>2016-03-26</td>\n",
       "      <td>17609</td>\n",
       "      <td>11.55</td>\n",
       "      <td>11.55</td>\n",
       "      <td>0.0</td>\n",
       "      <td>6.92</td>\n",
       "      <td>0.73</td>\n",
       "      <td>3.91</td>\n",
       "      <td>0.0</td>\n",
       "      <td>89</td>\n",
       "      <td>17</td>\n",
       "      <td>274</td>\n",
       "      <td>588</td>\n",
       "      <td>2154</td>\n",
       "      <td>968</td>\n",
       "      <td>Saturday</td>\n",
       "    </tr>\n",
       "    <tr>\n",
       "      <th>2</th>\n",
       "      <td>1503960366</td>\n",
       "      <td>2016-03-27</td>\n",
       "      <td>12736</td>\n",
       "      <td>8.53</td>\n",
       "      <td>8.53</td>\n",
       "      <td>0.0</td>\n",
       "      <td>4.66</td>\n",
       "      <td>0.16</td>\n",
       "      <td>3.71</td>\n",
       "      <td>0.0</td>\n",
       "      <td>56</td>\n",
       "      <td>5</td>\n",
       "      <td>268</td>\n",
       "      <td>605</td>\n",
       "      <td>1944</td>\n",
       "      <td>934</td>\n",
       "      <td>Sunday</td>\n",
       "    </tr>\n",
       "    <tr>\n",
       "      <th>3</th>\n",
       "      <td>1503960366</td>\n",
       "      <td>2016-03-28</td>\n",
       "      <td>13231</td>\n",
       "      <td>8.93</td>\n",
       "      <td>8.93</td>\n",
       "      <td>0.0</td>\n",
       "      <td>3.19</td>\n",
       "      <td>0.79</td>\n",
       "      <td>4.95</td>\n",
       "      <td>0.0</td>\n",
       "      <td>39</td>\n",
       "      <td>20</td>\n",
       "      <td>224</td>\n",
       "      <td>1080</td>\n",
       "      <td>1932</td>\n",
       "      <td>1363</td>\n",
       "      <td>Monday</td>\n",
       "    </tr>\n",
       "    <tr>\n",
       "      <th>4</th>\n",
       "      <td>1503960366</td>\n",
       "      <td>2016-03-29</td>\n",
       "      <td>12041</td>\n",
       "      <td>7.85</td>\n",
       "      <td>7.85</td>\n",
       "      <td>0.0</td>\n",
       "      <td>2.16</td>\n",
       "      <td>1.09</td>\n",
       "      <td>4.61</td>\n",
       "      <td>0.0</td>\n",
       "      <td>28</td>\n",
       "      <td>28</td>\n",
       "      <td>243</td>\n",
       "      <td>763</td>\n",
       "      <td>1886</td>\n",
       "      <td>1062</td>\n",
       "      <td>Tuesday</td>\n",
       "    </tr>\n",
       "  </tbody>\n",
       "</table>\n",
       "</div>"
      ],
      "text/plain": [
       "           Id ActivityDate  TotalSteps  TotalDistance  TrackerDistance  \\\n",
       "0  1503960366   2016-03-25       11004           7.11             7.11   \n",
       "1  1503960366   2016-03-26       17609          11.55            11.55   \n",
       "2  1503960366   2016-03-27       12736           8.53             8.53   \n",
       "3  1503960366   2016-03-28       13231           8.93             8.93   \n",
       "4  1503960366   2016-03-29       12041           7.85             7.85   \n",
       "\n",
       "   LoggedActivitiesDistance  VeryActiveDistance  ModeratelyActiveDistance  \\\n",
       "0                       0.0                2.57                      0.46   \n",
       "1                       0.0                6.92                      0.73   \n",
       "2                       0.0                4.66                      0.16   \n",
       "3                       0.0                3.19                      0.79   \n",
       "4                       0.0                2.16                      1.09   \n",
       "\n",
       "   LightActiveDistance  SedentaryActiveDistance  VeryActiveMinutes  \\\n",
       "0                 4.07                      0.0                 33   \n",
       "1                 3.91                      0.0                 89   \n",
       "2                 3.71                      0.0                 56   \n",
       "3                 4.95                      0.0                 39   \n",
       "4                 4.61                      0.0                 28   \n",
       "\n",
       "   FairlyActiveMinutes  LightlyActiveMinutes  SedentaryMinutes  Calories  \\\n",
       "0                   12                   205               804      1819   \n",
       "1                   17                   274               588      2154   \n",
       "2                    5                   268               605      1944   \n",
       "3                   20                   224              1080      1932   \n",
       "4                   28                   243               763      1886   \n",
       "\n",
       "   TotalMinutes       Day  \n",
       "0          1054    Friday  \n",
       "1           968  Saturday  \n",
       "2           934    Sunday  \n",
       "3          1363    Monday  \n",
       "4          1062   Tuesday  "
      ]
     },
     "execution_count": 13,
     "metadata": {},
     "output_type": "execute_result"
    }
   ],
   "source": [
    "data.head()"
   ]
  },
  {
   "cell_type": "markdown",
   "metadata": {},
   "source": [
    "Now let’s have a look at the very active, fairly active, and lightly active minutes on each day of the week"
   ]
  },
  {
   "cell_type": "code",
   "execution_count": 14,
   "metadata": {},
   "outputs": [
    {
     "data": {
      "application/vnd.plotly.v1+json": {
       "config": {
        "plotlyServerURL": "https://plot.ly"
       },
       "data": [
        {
         "marker": {
          "color": "purple"
         },
         "name": "Very Active",
         "type": "bar",
         "x": [
          "Friday",
          "Saturday",
          "Sunday",
          "Monday",
          "Tuesday",
          "Wednesday",
          "Thursday",
          "Friday",
          "Saturday",
          "Sunday",
          "Monday",
          "Tuesday",
          "Wednesday",
          "Thursday",
          "Friday",
          "Saturday",
          "Sunday",
          "Monday",
          "Tuesday",
          "Friday",
          "Saturday",
          "Sunday",
          "Monday",
          "Tuesday",
          "Wednesday",
          "Thursday",
          "Friday",
          "Saturday",
          "Sunday",
          "Monday",
          "Tuesday",
          "Wednesday",
          "Thursday",
          "Friday",
          "Saturday",
          "Sunday",
          "Monday",
          "Tuesday",
          "Friday",
          "Saturday",
          "Sunday",
          "Monday",
          "Tuesday",
          "Wednesday",
          "Thursday",
          "Friday",
          "Saturday",
          "Sunday",
          "Friday",
          "Saturday",
          "Sunday",
          "Monday",
          "Tuesday",
          "Wednesday",
          "Thursday",
          "Friday",
          "Saturday",
          "Sunday",
          "Monday",
          "Tuesday",
          "Friday",
          "Saturday",
          "Sunday",
          "Monday",
          "Tuesday",
          "Wednesday",
          "Thursday",
          "Friday",
          "Saturday",
          "Sunday",
          "Monday",
          "Tuesday",
          "Friday",
          "Saturday",
          "Sunday",
          "Monday",
          "Tuesday",
          "Wednesday",
          "Thursday",
          "Friday",
          "Saturday",
          "Sunday",
          "Monday",
          "Tuesday",
          "Friday",
          "Saturday",
          "Sunday",
          "Monday",
          "Tuesday",
          "Wednesday",
          "Thursday",
          "Friday",
          "Saturday",
          "Sunday",
          "Monday",
          "Tuesday",
          "Friday",
          "Saturday",
          "Sunday",
          "Monday",
          "Tuesday",
          "Wednesday",
          "Thursday",
          "Friday",
          "Saturday",
          "Sunday",
          "Monday",
          "Tuesday",
          "Tuesday",
          "Wednesday",
          "Thursday",
          "Friday",
          "Saturday",
          "Sunday",
          "Monday",
          "Tuesday",
          "Wednesday",
          "Thursday",
          "Friday",
          "Saturday",
          "Sunday",
          "Monday",
          "Tuesday",
          "Friday",
          "Saturday",
          "Sunday",
          "Monday",
          "Tuesday",
          "Wednesday",
          "Thursday",
          "Friday",
          "Saturday",
          "Sunday",
          "Monday",
          "Tuesday",
          "Tuesday",
          "Wednesday",
          "Thursday",
          "Friday",
          "Saturday",
          "Sunday",
          "Monday",
          "Tuesday",
          "Friday",
          "Saturday",
          "Sunday",
          "Monday",
          "Tuesday",
          "Wednesday",
          "Thursday",
          "Friday",
          "Saturday",
          "Sunday",
          "Friday",
          "Saturday",
          "Sunday",
          "Monday",
          "Tuesday",
          "Wednesday",
          "Thursday",
          "Friday",
          "Saturday",
          "Sunday",
          "Monday",
          "Tuesday",
          "Saturday",
          "Sunday",
          "Monday",
          "Tuesday",
          "Wednesday",
          "Thursday",
          "Friday",
          "Saturday",
          "Sunday",
          "Monday",
          "Tuesday",
          "Wednesday",
          "Thursday",
          "Friday",
          "Saturday",
          "Sunday",
          "Monday",
          "Tuesday",
          "Wednesday",
          "Thursday",
          "Friday",
          "Saturday",
          "Sunday",
          "Monday",
          "Tuesday",
          "Wednesday",
          "Thursday",
          "Friday",
          "Saturday",
          "Sunday",
          "Monday",
          "Tuesday",
          "Saturday",
          "Sunday",
          "Monday",
          "Tuesday",
          "Wednesday",
          "Thursday",
          "Friday",
          "Saturday",
          "Sunday",
          "Monday",
          "Tuesday",
          "Wednesday",
          "Thursday",
          "Friday",
          "Saturday",
          "Sunday",
          "Monday",
          "Tuesday",
          "Wednesday",
          "Thursday",
          "Friday",
          "Saturday",
          "Sunday",
          "Monday",
          "Tuesday",
          "Wednesday",
          "Thursday",
          "Friday",
          "Saturday",
          "Sunday",
          "Monday",
          "Tuesday",
          "Tuesday",
          "Wednesday",
          "Thursday",
          "Friday",
          "Saturday",
          "Sunday",
          "Monday",
          "Tuesday",
          "Wednesday",
          "Thursday",
          "Friday",
          "Saturday",
          "Tuesday",
          "Wednesday",
          "Thursday",
          "Friday",
          "Saturday",
          "Sunday",
          "Monday",
          "Tuesday",
          "Tuesday",
          "Wednesday",
          "Thursday",
          "Friday",
          "Saturday",
          "Sunday",
          "Monday",
          "Tuesday",
          "Wednesday",
          "Thursday",
          "Friday",
          "Saturday",
          "Sunday",
          "Monday",
          "Tuesday",
          "Friday",
          "Saturday",
          "Sunday",
          "Monday",
          "Tuesday",
          "Wednesday",
          "Thursday",
          "Friday",
          "Saturday",
          "Sunday",
          "Monday",
          "Tuesday",
          "Tuesday",
          "Wednesday",
          "Thursday",
          "Friday",
          "Saturday",
          "Sunday",
          "Monday",
          "Tuesday",
          "Wednesday",
          "Thursday",
          "Friday",
          "Saturday",
          "Sunday",
          "Monday",
          "Tuesday",
          "Friday",
          "Saturday",
          "Sunday",
          "Monday",
          "Tuesday",
          "Wednesday",
          "Thursday",
          "Friday",
          "Saturday",
          "Sunday",
          "Monday",
          "Tuesday",
          "Friday",
          "Saturday",
          "Sunday",
          "Monday",
          "Tuesday",
          "Wednesday",
          "Thursday",
          "Friday",
          "Saturday",
          "Sunday",
          "Monday",
          "Friday",
          "Saturday",
          "Sunday",
          "Monday",
          "Tuesday",
          "Wednesday",
          "Thursday",
          "Friday",
          "Saturday",
          "Sunday",
          "Friday",
          "Saturday",
          "Sunday",
          "Monday",
          "Tuesday",
          "Wednesday",
          "Thursday",
          "Friday",
          "Saturday",
          "Sunday",
          "Friday",
          "Saturday",
          "Sunday",
          "Monday",
          "Tuesday",
          "Wednesday",
          "Thursday",
          "Friday",
          "Saturday",
          "Friday",
          "Saturday",
          "Sunday",
          "Monday",
          "Tuesday",
          "Wednesday",
          "Thursday",
          "Friday",
          "Saturday",
          "Wednesday",
          "Thursday",
          "Friday",
          "Saturday",
          "Sunday",
          "Monday",
          "Tuesday",
          "Wednesday",
          "Thursday",
          "Friday",
          "Saturday",
          "Sunday",
          "Monday",
          "Tuesday",
          "Friday",
          "Saturday",
          "Sunday",
          "Monday",
          "Tuesday",
          "Wednesday",
          "Thursday",
          "Friday",
          "Saturday",
          "Sunday",
          "Monday",
          "Tuesday",
          "Friday",
          "Saturday",
          "Sunday",
          "Monday",
          "Tuesday",
          "Wednesday",
          "Thursday",
          "Friday",
          "Saturday",
          "Sunday",
          "Monday",
          "Tuesday",
          "Saturday",
          "Sunday",
          "Monday",
          "Tuesday",
          "Wednesday",
          "Thursday",
          "Friday",
          "Saturday",
          "Sunday",
          "Monday",
          "Tuesday",
          "Friday",
          "Saturday",
          "Sunday",
          "Monday",
          "Tuesday",
          "Wednesday",
          "Thursday",
          "Friday",
          "Saturday",
          "Sunday",
          "Monday",
          "Tuesday",
          "Friday",
          "Saturday",
          "Sunday",
          "Monday",
          "Tuesday",
          "Wednesday",
          "Thursday",
          "Friday",
          "Saturday",
          "Sunday",
          "Monday",
          "Tuesday",
          "Friday",
          "Saturday",
          "Sunday",
          "Monday",
          "Tuesday",
          "Wednesday",
          "Thursday",
          "Friday",
          "Friday",
          "Saturday",
          "Sunday",
          "Monday",
          "Tuesday",
          "Wednesday",
          "Thursday",
          "Friday",
          "Saturday",
          "Sunday",
          "Monday",
          "Tuesday",
          "Friday",
          "Saturday",
          "Sunday",
          "Monday",
          "Tuesday",
          "Wednesday",
          "Thursday",
          "Friday",
          "Saturday",
          "Sunday",
          "Monday",
          "Tuesday"
         ],
         "y": [
          33,
          89,
          56,
          39,
          28,
          30,
          33,
          47,
          40,
          15,
          43,
          36,
          27,
          17,
          46,
          32,
          44,
          26,
          0,
          0,
          0,
          0,
          0,
          0,
          0,
          7,
          0,
          0,
          0,
          0,
          0,
          0,
          0,
          0,
          0,
          7,
          0,
          0,
          0,
          34,
          59,
          4,
          5,
          18,
          3,
          7,
          18,
          0,
          9,
          0,
          0,
          0,
          0,
          0,
          0,
          0,
          0,
          0,
          0,
          0,
          0,
          0,
          0,
          0,
          0,
          0,
          0,
          0,
          0,
          0,
          0,
          0,
          72,
          0,
          25,
          62,
          36,
          47,
          72,
          40,
          44,
          1,
          41,
          41,
          0,
          0,
          0,
          0,
          0,
          0,
          0,
          0,
          0,
          0,
          0,
          0,
          0,
          0,
          0,
          0,
          0,
          0,
          0,
          0,
          1,
          0,
          10,
          0,
          2,
          21,
          0,
          0,
          51,
          0,
          21,
          18,
          14,
          15,
          2,
          16,
          12,
          5,
          0,
          0,
          0,
          3,
          6,
          0,
          0,
          5,
          0,
          46,
          1,
          0,
          0,
          0,
          0,
          0,
          0,
          0,
          0,
          0,
          0,
          0,
          24,
          0,
          20,
          0,
          17,
          14,
          0,
          21,
          22,
          0,
          0,
          29,
          16,
          26,
          24,
          0,
          0,
          35,
          15,
          1,
          0,
          0,
          0,
          0,
          0,
          25,
          0,
          0,
          0,
          0,
          0,
          0,
          0,
          0,
          0,
          0,
          0,
          31,
          0,
          0,
          18,
          15,
          3,
          0,
          0,
          7,
          0,
          0,
          6,
          20,
          5,
          0,
          0,
          0,
          0,
          30,
          0,
          0,
          0,
          0,
          0,
          0,
          0,
          0,
          7,
          0,
          0,
          0,
          0,
          0,
          0,
          0,
          0,
          0,
          0,
          0,
          0,
          0,
          0,
          0,
          2,
          0,
          1,
          0,
          0,
          3,
          4,
          4,
          14,
          15,
          12,
          5,
          3,
          8,
          7,
          4,
          0,
          0,
          0,
          0,
          0,
          0,
          0,
          0,
          0,
          0,
          0,
          0,
          0,
          0,
          0,
          0,
          1,
          28,
          24,
          0,
          0,
          0,
          23,
          0,
          0,
          0,
          1,
          0,
          24,
          0,
          27,
          0,
          0,
          0,
          0,
          0,
          4,
          3,
          0,
          0,
          0,
          3,
          6,
          15,
          4,
          0,
          0,
          8,
          1,
          0,
          0,
          51,
          0,
          0,
          27,
          40,
          33,
          51,
          38,
          0,
          4,
          32,
          7,
          99,
          202,
          58,
          70,
          107,
          83,
          31,
          8,
          123,
          80,
          39,
          0,
          3,
          0,
          2,
          0,
          0,
          0,
          0,
          0,
          0,
          0,
          25,
          33,
          0,
          0,
          0,
          0,
          0,
          0,
          20,
          0,
          46,
          0,
          0,
          0,
          0,
          0,
          0,
          0,
          25,
          0,
          1,
          0,
          56,
          24,
          46,
          27,
          0,
          18,
          50,
          9,
          50,
          14,
          73,
          38,
          55,
          45,
          27,
          33,
          19,
          21,
          43,
          50,
          9,
          104,
          70,
          50,
          64,
          61,
          54,
          2,
          1,
          18,
          53,
          38,
          0,
          3,
          31,
          25,
          19,
          76,
          50,
          27,
          0,
          46,
          0,
          124,
          165,
          100,
          98,
          100,
          101,
          60,
          59,
          30,
          96,
          0,
          0,
          0,
          0,
          0,
          0,
          0,
          15,
          47,
          8,
          0,
          0,
          0,
          73,
          0,
          25,
          105,
          113,
          55,
          83,
          72,
          0,
          0,
          74,
          65,
          0,
          0,
          0,
          0,
          5,
          0,
          0,
          0,
          4,
          9,
          2,
          0,
          1,
          0,
          0,
          2,
          0,
          0,
          0,
          0,
          67,
          116,
          106,
          78,
          10,
          87,
          32,
          70,
          90,
          128,
          18,
          0
         ]
        },
        {
         "marker": {
          "color": "green"
         },
         "name": "Fairly Active",
         "type": "bar",
         "x": [
          "Friday",
          "Saturday",
          "Sunday",
          "Monday",
          "Tuesday",
          "Wednesday",
          "Thursday",
          "Friday",
          "Saturday",
          "Sunday",
          "Monday",
          "Tuesday",
          "Wednesday",
          "Thursday",
          "Friday",
          "Saturday",
          "Sunday",
          "Monday",
          "Tuesday",
          "Friday",
          "Saturday",
          "Sunday",
          "Monday",
          "Tuesday",
          "Wednesday",
          "Thursday",
          "Friday",
          "Saturday",
          "Sunday",
          "Monday",
          "Tuesday",
          "Wednesday",
          "Thursday",
          "Friday",
          "Saturday",
          "Sunday",
          "Monday",
          "Tuesday",
          "Friday",
          "Saturday",
          "Sunday",
          "Monday",
          "Tuesday",
          "Wednesday",
          "Thursday",
          "Friday",
          "Saturday",
          "Sunday",
          "Friday",
          "Saturday",
          "Sunday",
          "Monday",
          "Tuesday",
          "Wednesday",
          "Thursday",
          "Friday",
          "Saturday",
          "Sunday",
          "Monday",
          "Tuesday",
          "Friday",
          "Saturday",
          "Sunday",
          "Monday",
          "Tuesday",
          "Wednesday",
          "Thursday",
          "Friday",
          "Saturday",
          "Sunday",
          "Monday",
          "Tuesday",
          "Friday",
          "Saturday",
          "Sunday",
          "Monday",
          "Tuesday",
          "Wednesday",
          "Thursday",
          "Friday",
          "Saturday",
          "Sunday",
          "Monday",
          "Tuesday",
          "Friday",
          "Saturday",
          "Sunday",
          "Monday",
          "Tuesday",
          "Wednesday",
          "Thursday",
          "Friday",
          "Saturday",
          "Sunday",
          "Monday",
          "Tuesday",
          "Friday",
          "Saturday",
          "Sunday",
          "Monday",
          "Tuesday",
          "Wednesday",
          "Thursday",
          "Friday",
          "Saturday",
          "Sunday",
          "Monday",
          "Tuesday",
          "Tuesday",
          "Wednesday",
          "Thursday",
          "Friday",
          "Saturday",
          "Sunday",
          "Monday",
          "Tuesday",
          "Wednesday",
          "Thursday",
          "Friday",
          "Saturday",
          "Sunday",
          "Monday",
          "Tuesday",
          "Friday",
          "Saturday",
          "Sunday",
          "Monday",
          "Tuesday",
          "Wednesday",
          "Thursday",
          "Friday",
          "Saturday",
          "Sunday",
          "Monday",
          "Tuesday",
          "Tuesday",
          "Wednesday",
          "Thursday",
          "Friday",
          "Saturday",
          "Sunday",
          "Monday",
          "Tuesday",
          "Friday",
          "Saturday",
          "Sunday",
          "Monday",
          "Tuesday",
          "Wednesday",
          "Thursday",
          "Friday",
          "Saturday",
          "Sunday",
          "Friday",
          "Saturday",
          "Sunday",
          "Monday",
          "Tuesday",
          "Wednesday",
          "Thursday",
          "Friday",
          "Saturday",
          "Sunday",
          "Monday",
          "Tuesday",
          "Saturday",
          "Sunday",
          "Monday",
          "Tuesday",
          "Wednesday",
          "Thursday",
          "Friday",
          "Saturday",
          "Sunday",
          "Monday",
          "Tuesday",
          "Wednesday",
          "Thursday",
          "Friday",
          "Saturday",
          "Sunday",
          "Monday",
          "Tuesday",
          "Wednesday",
          "Thursday",
          "Friday",
          "Saturday",
          "Sunday",
          "Monday",
          "Tuesday",
          "Wednesday",
          "Thursday",
          "Friday",
          "Saturday",
          "Sunday",
          "Monday",
          "Tuesday",
          "Saturday",
          "Sunday",
          "Monday",
          "Tuesday",
          "Wednesday",
          "Thursday",
          "Friday",
          "Saturday",
          "Sunday",
          "Monday",
          "Tuesday",
          "Wednesday",
          "Thursday",
          "Friday",
          "Saturday",
          "Sunday",
          "Monday",
          "Tuesday",
          "Wednesday",
          "Thursday",
          "Friday",
          "Saturday",
          "Sunday",
          "Monday",
          "Tuesday",
          "Wednesday",
          "Thursday",
          "Friday",
          "Saturday",
          "Sunday",
          "Monday",
          "Tuesday",
          "Tuesday",
          "Wednesday",
          "Thursday",
          "Friday",
          "Saturday",
          "Sunday",
          "Monday",
          "Tuesday",
          "Wednesday",
          "Thursday",
          "Friday",
          "Saturday",
          "Tuesday",
          "Wednesday",
          "Thursday",
          "Friday",
          "Saturday",
          "Sunday",
          "Monday",
          "Tuesday",
          "Tuesday",
          "Wednesday",
          "Thursday",
          "Friday",
          "Saturday",
          "Sunday",
          "Monday",
          "Tuesday",
          "Wednesday",
          "Thursday",
          "Friday",
          "Saturday",
          "Sunday",
          "Monday",
          "Tuesday",
          "Friday",
          "Saturday",
          "Sunday",
          "Monday",
          "Tuesday",
          "Wednesday",
          "Thursday",
          "Friday",
          "Saturday",
          "Sunday",
          "Monday",
          "Tuesday",
          "Tuesday",
          "Wednesday",
          "Thursday",
          "Friday",
          "Saturday",
          "Sunday",
          "Monday",
          "Tuesday",
          "Wednesday",
          "Thursday",
          "Friday",
          "Saturday",
          "Sunday",
          "Monday",
          "Tuesday",
          "Friday",
          "Saturday",
          "Sunday",
          "Monday",
          "Tuesday",
          "Wednesday",
          "Thursday",
          "Friday",
          "Saturday",
          "Sunday",
          "Monday",
          "Tuesday",
          "Friday",
          "Saturday",
          "Sunday",
          "Monday",
          "Tuesday",
          "Wednesday",
          "Thursday",
          "Friday",
          "Saturday",
          "Sunday",
          "Monday",
          "Friday",
          "Saturday",
          "Sunday",
          "Monday",
          "Tuesday",
          "Wednesday",
          "Thursday",
          "Friday",
          "Saturday",
          "Sunday",
          "Friday",
          "Saturday",
          "Sunday",
          "Monday",
          "Tuesday",
          "Wednesday",
          "Thursday",
          "Friday",
          "Saturday",
          "Sunday",
          "Friday",
          "Saturday",
          "Sunday",
          "Monday",
          "Tuesday",
          "Wednesday",
          "Thursday",
          "Friday",
          "Saturday",
          "Friday",
          "Saturday",
          "Sunday",
          "Monday",
          "Tuesday",
          "Wednesday",
          "Thursday",
          "Friday",
          "Saturday",
          "Wednesday",
          "Thursday",
          "Friday",
          "Saturday",
          "Sunday",
          "Monday",
          "Tuesday",
          "Wednesday",
          "Thursday",
          "Friday",
          "Saturday",
          "Sunday",
          "Monday",
          "Tuesday",
          "Friday",
          "Saturday",
          "Sunday",
          "Monday",
          "Tuesday",
          "Wednesday",
          "Thursday",
          "Friday",
          "Saturday",
          "Sunday",
          "Monday",
          "Tuesday",
          "Friday",
          "Saturday",
          "Sunday",
          "Monday",
          "Tuesday",
          "Wednesday",
          "Thursday",
          "Friday",
          "Saturday",
          "Sunday",
          "Monday",
          "Tuesday",
          "Saturday",
          "Sunday",
          "Monday",
          "Tuesday",
          "Wednesday",
          "Thursday",
          "Friday",
          "Saturday",
          "Sunday",
          "Monday",
          "Tuesday",
          "Friday",
          "Saturday",
          "Sunday",
          "Monday",
          "Tuesday",
          "Wednesday",
          "Thursday",
          "Friday",
          "Saturday",
          "Sunday",
          "Monday",
          "Tuesday",
          "Friday",
          "Saturday",
          "Sunday",
          "Monday",
          "Tuesday",
          "Wednesday",
          "Thursday",
          "Friday",
          "Saturday",
          "Sunday",
          "Monday",
          "Tuesday",
          "Friday",
          "Saturday",
          "Sunday",
          "Monday",
          "Tuesday",
          "Wednesday",
          "Thursday",
          "Friday",
          "Friday",
          "Saturday",
          "Sunday",
          "Monday",
          "Tuesday",
          "Wednesday",
          "Thursday",
          "Friday",
          "Saturday",
          "Sunday",
          "Monday",
          "Tuesday",
          "Friday",
          "Saturday",
          "Sunday",
          "Monday",
          "Tuesday",
          "Wednesday",
          "Thursday",
          "Friday",
          "Saturday",
          "Sunday",
          "Monday",
          "Tuesday"
         ],
         "y": [
          12,
          17,
          5,
          20,
          28,
          13,
          12,
          21,
          11,
          30,
          18,
          18,
          12,
          20,
          22,
          15,
          13,
          14,
          0,
          0,
          0,
          0,
          0,
          0,
          0,
          4,
          0,
          0,
          0,
          0,
          0,
          0,
          0,
          0,
          0,
          7,
          0,
          0,
          16,
          141,
          16,
          4,
          35,
          41,
          58,
          43,
          81,
          0,
          9,
          0,
          0,
          0,
          0,
          0,
          0,
          0,
          0,
          0,
          0,
          0,
          11,
          0,
          0,
          0,
          0,
          0,
          0,
          0,
          9,
          0,
          0,
          0,
          16,
          0,
          22,
          19,
          37,
          42,
          62,
          12,
          16,
          23,
          16,
          5,
          0,
          0,
          0,
          0,
          0,
          0,
          0,
          0,
          0,
          0,
          0,
          0,
          0,
          0,
          0,
          0,
          0,
          0,
          0,
          0,
          11,
          0,
          2,
          0,
          58,
          35,
          0,
          33,
          16,
          0,
          25,
          9,
          46,
          32,
          6,
          32,
          3,
          52,
          0,
          0,
          0,
          15,
          24,
          0,
          0,
          17,
          0,
          8,
          8,
          0,
          0,
          0,
          0,
          0,
          660,
          0,
          0,
          0,
          0,
          0,
          1,
          0,
          7,
          0,
          4,
          9,
          0,
          10,
          4,
          0,
          6,
          22,
          43,
          32,
          45,
          81,
          101,
          36,
          8,
          1,
          0,
          0,
          0,
          0,
          10,
          14,
          0,
          0,
          0,
          0,
          0,
          0,
          0,
          0,
          0,
          0,
          0,
          45,
          0,
          0,
          33,
          17,
          15,
          0,
          28,
          19,
          0,
          8,
          37,
          12,
          7,
          0,
          0,
          0,
          0,
          7,
          0,
          28,
          0,
          0,
          0,
          0,
          0,
          0,
          7,
          0,
          0,
          0,
          0,
          0,
          0,
          0,
          0,
          0,
          0,
          0,
          0,
          0,
          0,
          0,
          120,
          0,
          7,
          0,
          0,
          8,
          12,
          17,
          20,
          4,
          37,
          39,
          14,
          51,
          11,
          6,
          0,
          0,
          0,
          0,
          0,
          0,
          0,
          0,
          0,
          0,
          0,
          0,
          0,
          0,
          0,
          0,
          6,
          2,
          1,
          0,
          0,
          0,
          5,
          0,
          0,
          0,
          7,
          0,
          14,
          0,
          12,
          0,
          0,
          0,
          0,
          0,
          5,
          13,
          0,
          9,
          32,
          57,
          27,
          16,
          4,
          0,
          15,
          56,
          25,
          0,
          0,
          12,
          0,
          0,
          8,
          26,
          28,
          39,
          24,
          0,
          25,
          27,
          11,
          31,
          36,
          27,
          19,
          18,
          52,
          11,
          2,
          62,
          35,
          17,
          0,
          30,
          0,
          11,
          0,
          0,
          0,
          0,
          0,
          0,
          0,
          107,
          0,
          0,
          0,
          0,
          0,
          0,
          0,
          0,
          0,
          0,
          0,
          0,
          6,
          0,
          0,
          0,
          0,
          50,
          0,
          17,
          0,
          133,
          99,
          114,
          30,
          0,
          77,
          32,
          45,
          24,
          51,
          20,
          17,
          14,
          16,
          37,
          19,
          7,
          38,
          9,
          7,
          16,
          31,
          21,
          6,
          8,
          33,
          22,
          6,
          12,
          27,
          6,
          30,
          0,
          6,
          24,
          33,
          14,
          30,
          48,
          5,
          0,
          22,
          0,
          19,
          36,
          4,
          8,
          14,
          6,
          6,
          6,
          18,
          8,
          0,
          0,
          0,
          0,
          0,
          0,
          0,
          15,
          13,
          28,
          0,
          0,
          0,
          21,
          0,
          13,
          16,
          15,
          6,
          11,
          10,
          0,
          0,
          17,
          15,
          0,
          0,
          0,
          0,
          15,
          0,
          0,
          0,
          8,
          24,
          6,
          9,
          10,
          0,
          0,
          8,
          0,
          0,
          0,
          0,
          3,
          24,
          17,
          16,
          3,
          16,
          11,
          29,
          9,
          46,
          7,
          0
         ]
        },
        {
         "marker": {
          "color": "pink"
         },
         "name": "Lightly Active",
         "type": "bar",
         "x": [
          "Friday",
          "Saturday",
          "Sunday",
          "Monday",
          "Tuesday",
          "Wednesday",
          "Thursday",
          "Friday",
          "Saturday",
          "Sunday",
          "Monday",
          "Tuesday",
          "Wednesday",
          "Thursday",
          "Friday",
          "Saturday",
          "Sunday",
          "Monday",
          "Tuesday",
          "Friday",
          "Saturday",
          "Sunday",
          "Monday",
          "Tuesday",
          "Wednesday",
          "Thursday",
          "Friday",
          "Saturday",
          "Sunday",
          "Monday",
          "Tuesday",
          "Wednesday",
          "Thursday",
          "Friday",
          "Saturday",
          "Sunday",
          "Monday",
          "Tuesday",
          "Friday",
          "Saturday",
          "Sunday",
          "Monday",
          "Tuesday",
          "Wednesday",
          "Thursday",
          "Friday",
          "Saturday",
          "Sunday",
          "Friday",
          "Saturday",
          "Sunday",
          "Monday",
          "Tuesday",
          "Wednesday",
          "Thursday",
          "Friday",
          "Saturday",
          "Sunday",
          "Monday",
          "Tuesday",
          "Friday",
          "Saturday",
          "Sunday",
          "Monday",
          "Tuesday",
          "Wednesday",
          "Thursday",
          "Friday",
          "Saturday",
          "Sunday",
          "Monday",
          "Tuesday",
          "Friday",
          "Saturday",
          "Sunday",
          "Monday",
          "Tuesday",
          "Wednesday",
          "Thursday",
          "Friday",
          "Saturday",
          "Sunday",
          "Monday",
          "Tuesday",
          "Friday",
          "Saturday",
          "Sunday",
          "Monday",
          "Tuesday",
          "Wednesday",
          "Thursday",
          "Friday",
          "Saturday",
          "Sunday",
          "Monday",
          "Tuesday",
          "Friday",
          "Saturday",
          "Sunday",
          "Monday",
          "Tuesday",
          "Wednesday",
          "Thursday",
          "Friday",
          "Saturday",
          "Sunday",
          "Monday",
          "Tuesday",
          "Tuesday",
          "Wednesday",
          "Thursday",
          "Friday",
          "Saturday",
          "Sunday",
          "Monday",
          "Tuesday",
          "Wednesday",
          "Thursday",
          "Friday",
          "Saturday",
          "Sunday",
          "Monday",
          "Tuesday",
          "Friday",
          "Saturday",
          "Sunday",
          "Monday",
          "Tuesday",
          "Wednesday",
          "Thursday",
          "Friday",
          "Saturday",
          "Sunday",
          "Monday",
          "Tuesday",
          "Tuesday",
          "Wednesday",
          "Thursday",
          "Friday",
          "Saturday",
          "Sunday",
          "Monday",
          "Tuesday",
          "Friday",
          "Saturday",
          "Sunday",
          "Monday",
          "Tuesday",
          "Wednesday",
          "Thursday",
          "Friday",
          "Saturday",
          "Sunday",
          "Friday",
          "Saturday",
          "Sunday",
          "Monday",
          "Tuesday",
          "Wednesday",
          "Thursday",
          "Friday",
          "Saturday",
          "Sunday",
          "Monday",
          "Tuesday",
          "Saturday",
          "Sunday",
          "Monday",
          "Tuesday",
          "Wednesday",
          "Thursday",
          "Friday",
          "Saturday",
          "Sunday",
          "Monday",
          "Tuesday",
          "Wednesday",
          "Thursday",
          "Friday",
          "Saturday",
          "Sunday",
          "Monday",
          "Tuesday",
          "Wednesday",
          "Thursday",
          "Friday",
          "Saturday",
          "Sunday",
          "Monday",
          "Tuesday",
          "Wednesday",
          "Thursday",
          "Friday",
          "Saturday",
          "Sunday",
          "Monday",
          "Tuesday",
          "Saturday",
          "Sunday",
          "Monday",
          "Tuesday",
          "Wednesday",
          "Thursday",
          "Friday",
          "Saturday",
          "Sunday",
          "Monday",
          "Tuesday",
          "Wednesday",
          "Thursday",
          "Friday",
          "Saturday",
          "Sunday",
          "Monday",
          "Tuesday",
          "Wednesday",
          "Thursday",
          "Friday",
          "Saturday",
          "Sunday",
          "Monday",
          "Tuesday",
          "Wednesday",
          "Thursday",
          "Friday",
          "Saturday",
          "Sunday",
          "Monday",
          "Tuesday",
          "Tuesday",
          "Wednesday",
          "Thursday",
          "Friday",
          "Saturday",
          "Sunday",
          "Monday",
          "Tuesday",
          "Wednesday",
          "Thursday",
          "Friday",
          "Saturday",
          "Tuesday",
          "Wednesday",
          "Thursday",
          "Friday",
          "Saturday",
          "Sunday",
          "Monday",
          "Tuesday",
          "Tuesday",
          "Wednesday",
          "Thursday",
          "Friday",
          "Saturday",
          "Sunday",
          "Monday",
          "Tuesday",
          "Wednesday",
          "Thursday",
          "Friday",
          "Saturday",
          "Sunday",
          "Monday",
          "Tuesday",
          "Friday",
          "Saturday",
          "Sunday",
          "Monday",
          "Tuesday",
          "Wednesday",
          "Thursday",
          "Friday",
          "Saturday",
          "Sunday",
          "Monday",
          "Tuesday",
          "Tuesday",
          "Wednesday",
          "Thursday",
          "Friday",
          "Saturday",
          "Sunday",
          "Monday",
          "Tuesday",
          "Wednesday",
          "Thursday",
          "Friday",
          "Saturday",
          "Sunday",
          "Monday",
          "Tuesday",
          "Friday",
          "Saturday",
          "Sunday",
          "Monday",
          "Tuesday",
          "Wednesday",
          "Thursday",
          "Friday",
          "Saturday",
          "Sunday",
          "Monday",
          "Tuesday",
          "Friday",
          "Saturday",
          "Sunday",
          "Monday",
          "Tuesday",
          "Wednesday",
          "Thursday",
          "Friday",
          "Saturday",
          "Sunday",
          "Monday",
          "Friday",
          "Saturday",
          "Sunday",
          "Monday",
          "Tuesday",
          "Wednesday",
          "Thursday",
          "Friday",
          "Saturday",
          "Sunday",
          "Friday",
          "Saturday",
          "Sunday",
          "Monday",
          "Tuesday",
          "Wednesday",
          "Thursday",
          "Friday",
          "Saturday",
          "Sunday",
          "Friday",
          "Saturday",
          "Sunday",
          "Monday",
          "Tuesday",
          "Wednesday",
          "Thursday",
          "Friday",
          "Saturday",
          "Friday",
          "Saturday",
          "Sunday",
          "Monday",
          "Tuesday",
          "Wednesday",
          "Thursday",
          "Friday",
          "Saturday",
          "Wednesday",
          "Thursday",
          "Friday",
          "Saturday",
          "Sunday",
          "Monday",
          "Tuesday",
          "Wednesday",
          "Thursday",
          "Friday",
          "Saturday",
          "Sunday",
          "Monday",
          "Tuesday",
          "Friday",
          "Saturday",
          "Sunday",
          "Monday",
          "Tuesday",
          "Wednesday",
          "Thursday",
          "Friday",
          "Saturday",
          "Sunday",
          "Monday",
          "Tuesday",
          "Friday",
          "Saturday",
          "Sunday",
          "Monday",
          "Tuesday",
          "Wednesday",
          "Thursday",
          "Friday",
          "Saturday",
          "Sunday",
          "Monday",
          "Tuesday",
          "Saturday",
          "Sunday",
          "Monday",
          "Tuesday",
          "Wednesday",
          "Thursday",
          "Friday",
          "Saturday",
          "Sunday",
          "Monday",
          "Tuesday",
          "Friday",
          "Saturday",
          "Sunday",
          "Monday",
          "Tuesday",
          "Wednesday",
          "Thursday",
          "Friday",
          "Saturday",
          "Sunday",
          "Monday",
          "Tuesday",
          "Friday",
          "Saturday",
          "Sunday",
          "Monday",
          "Tuesday",
          "Wednesday",
          "Thursday",
          "Friday",
          "Saturday",
          "Sunday",
          "Monday",
          "Tuesday",
          "Friday",
          "Saturday",
          "Sunday",
          "Monday",
          "Tuesday",
          "Wednesday",
          "Thursday",
          "Friday",
          "Friday",
          "Saturday",
          "Sunday",
          "Monday",
          "Tuesday",
          "Wednesday",
          "Thursday",
          "Friday",
          "Saturday",
          "Sunday",
          "Monday",
          "Tuesday",
          "Friday",
          "Saturday",
          "Sunday",
          "Monday",
          "Tuesday",
          "Wednesday",
          "Thursday",
          "Friday",
          "Saturday",
          "Sunday",
          "Monday",
          "Tuesday"
         ],
         "y": [
          205,
          274,
          268,
          224,
          243,
          223,
          239,
          200,
          244,
          314,
          285,
          341,
          228,
          195,
          212,
          248,
          168,
          216,
          9,
          121,
          47,
          112,
          95,
          66,
          84,
          144,
          221,
          88,
          157,
          270,
          74,
          55,
          54,
          143,
          122,
          186,
          172,
          89,
          586,
          347,
          283,
          87,
          219,
          137,
          230,
          161,
          192,
          35,
          251,
          263,
          136,
          0,
          0,
          1,
          290,
          221,
          184,
          305,
          251,
          0,
          192,
          267,
          146,
          128,
          108,
          73,
          43,
          34,
          134,
          139,
          73,
          3,
          213,
          237,
          279,
          233,
          298,
          258,
          252,
          296,
          302,
          339,
          272,
          67,
          166,
          69,
          115,
          263,
          248,
          185,
          170,
          173,
          185,
          230,
          164,
          64,
          0,
          0,
          0,
          0,
          175,
          320,
          93,
          153,
          208,
          103,
          390,
          69,
          208,
          255,
          250,
          212,
          327,
          324,
          231,
          269,
          196,
          315,
          316,
          401,
          303,
          196,
          0,
          41,
          197,
          315,
          355,
          374,
          382,
          363,
          380,
          288,
          251,
          357,
          0,
          0,
          0,
          0,
          0,
          720,
          0,
          0,
          630,
          311,
          341,
          299,
          233,
          248,
          325,
          332,
          282,
          346,
          152,
          168,
          302,
          282,
          297,
          291,
          331,
          139,
          174,
          254,
          99,
          129,
          17,
          254,
          136,
          145,
          215,
          309,
          47,
          0,
          0,
          0,
          0,
          0,
          0,
          0,
          0,
          0,
          0,
          75,
          187,
          258,
          261,
          210,
          162,
          265,
          193,
          165,
          263,
          241,
          272,
          223,
          176,
          114,
          1,
          0,
          0,
          135,
          0,
          15,
          0,
          34,
          0,
          2,
          46,
          169,
          190,
          1,
          0,
          0,
          86,
          1,
          160,
          145,
          0,
          0,
          0,
          0,
          0,
          0,
          2,
          1,
          25,
          60,
          108,
          193,
          11,
          199,
          244,
          247,
          268,
          257,
          257,
          313,
          311,
          308,
          304,
          276,
          0,
          0,
          0,
          0,
          0,
          0,
          0,
          0,
          0,
          155,
          163,
          238,
          205,
          273,
          171,
          110,
          235,
          215,
          208,
          266,
          239,
          316,
          195,
          20,
          258,
          173,
          269,
          367,
          185,
          259,
          296,
          241,
          276,
          290,
          308,
          76,
          241,
          227,
          256,
          248,
          367,
          323,
          216,
          199,
          248,
          210,
          247,
          381,
          331,
          207,
          0,
          235,
          181,
          93,
          198,
          218,
          229,
          243,
          193,
          176,
          150,
          234,
          50,
          142,
          153,
          240,
          204,
          145,
          190,
          146,
          156,
          138,
          162,
          54,
          286,
          475,
          0,
          279,
          384,
          491,
          156,
          422,
          506,
          0,
          280,
          113,
          0,
          0,
          0,
          0,
          0,
          0,
          0,
          0,
          0,
          0,
          0,
          0,
          301,
          8,
          0,
          0,
          0,
          163,
          79,
          8,
          0,
          240,
          300,
          250,
          75,
          1,
          272,
          234,
          252,
          219,
          218,
          327,
          287,
          276,
          284,
          276,
          324,
          306,
          297,
          48,
          244,
          271,
          230,
          292,
          284,
          270,
          265,
          301,
          358,
          397,
          375,
          43,
          154,
          2,
          27,
          138,
          132,
          124,
          127,
          140,
          204,
          27,
          126,
          14,
          172,
          97,
          213,
          184,
          191,
          190,
          153,
          120,
          207,
          155,
          16,
          0,
          0,
          0,
          0,
          0,
          94,
          107,
          150,
          148,
          126,
          86,
          0,
          195,
          144,
          243,
          220,
          189,
          230,
          181,
          167,
          110,
          117,
          182,
          49,
          112,
          166,
          131,
          147,
          212,
          112,
          138,
          79,
          176,
          328,
          279,
          161,
          111,
          122,
          77,
          71,
          63,
          179,
          12,
          6,
          247,
          260,
          259,
          208,
          246,
          318,
          212,
          359,
          289,
          211,
          225,
          58
         ]
        }
       ],
       "layout": {
        "barmode": "group",
        "template": {
         "data": {
          "bar": [
           {
            "error_x": {
             "color": "#2a3f5f"
            },
            "error_y": {
             "color": "#2a3f5f"
            },
            "marker": {
             "line": {
              "color": "#E5ECF6",
              "width": 0.5
             },
             "pattern": {
              "fillmode": "overlay",
              "size": 10,
              "solidity": 0.2
             }
            },
            "type": "bar"
           }
          ],
          "barpolar": [
           {
            "marker": {
             "line": {
              "color": "#E5ECF6",
              "width": 0.5
             },
             "pattern": {
              "fillmode": "overlay",
              "size": 10,
              "solidity": 0.2
             }
            },
            "type": "barpolar"
           }
          ],
          "carpet": [
           {
            "aaxis": {
             "endlinecolor": "#2a3f5f",
             "gridcolor": "white",
             "linecolor": "white",
             "minorgridcolor": "white",
             "startlinecolor": "#2a3f5f"
            },
            "baxis": {
             "endlinecolor": "#2a3f5f",
             "gridcolor": "white",
             "linecolor": "white",
             "minorgridcolor": "white",
             "startlinecolor": "#2a3f5f"
            },
            "type": "carpet"
           }
          ],
          "choropleth": [
           {
            "colorbar": {
             "outlinewidth": 0,
             "ticks": ""
            },
            "type": "choropleth"
           }
          ],
          "contour": [
           {
            "colorbar": {
             "outlinewidth": 0,
             "ticks": ""
            },
            "colorscale": [
             [
              0,
              "#0d0887"
             ],
             [
              0.1111111111111111,
              "#46039f"
             ],
             [
              0.2222222222222222,
              "#7201a8"
             ],
             [
              0.3333333333333333,
              "#9c179e"
             ],
             [
              0.4444444444444444,
              "#bd3786"
             ],
             [
              0.5555555555555556,
              "#d8576b"
             ],
             [
              0.6666666666666666,
              "#ed7953"
             ],
             [
              0.7777777777777778,
              "#fb9f3a"
             ],
             [
              0.8888888888888888,
              "#fdca26"
             ],
             [
              1,
              "#f0f921"
             ]
            ],
            "type": "contour"
           }
          ],
          "contourcarpet": [
           {
            "colorbar": {
             "outlinewidth": 0,
             "ticks": ""
            },
            "type": "contourcarpet"
           }
          ],
          "heatmap": [
           {
            "colorbar": {
             "outlinewidth": 0,
             "ticks": ""
            },
            "colorscale": [
             [
              0,
              "#0d0887"
             ],
             [
              0.1111111111111111,
              "#46039f"
             ],
             [
              0.2222222222222222,
              "#7201a8"
             ],
             [
              0.3333333333333333,
              "#9c179e"
             ],
             [
              0.4444444444444444,
              "#bd3786"
             ],
             [
              0.5555555555555556,
              "#d8576b"
             ],
             [
              0.6666666666666666,
              "#ed7953"
             ],
             [
              0.7777777777777778,
              "#fb9f3a"
             ],
             [
              0.8888888888888888,
              "#fdca26"
             ],
             [
              1,
              "#f0f921"
             ]
            ],
            "type": "heatmap"
           }
          ],
          "heatmapgl": [
           {
            "colorbar": {
             "outlinewidth": 0,
             "ticks": ""
            },
            "colorscale": [
             [
              0,
              "#0d0887"
             ],
             [
              0.1111111111111111,
              "#46039f"
             ],
             [
              0.2222222222222222,
              "#7201a8"
             ],
             [
              0.3333333333333333,
              "#9c179e"
             ],
             [
              0.4444444444444444,
              "#bd3786"
             ],
             [
              0.5555555555555556,
              "#d8576b"
             ],
             [
              0.6666666666666666,
              "#ed7953"
             ],
             [
              0.7777777777777778,
              "#fb9f3a"
             ],
             [
              0.8888888888888888,
              "#fdca26"
             ],
             [
              1,
              "#f0f921"
             ]
            ],
            "type": "heatmapgl"
           }
          ],
          "histogram": [
           {
            "marker": {
             "pattern": {
              "fillmode": "overlay",
              "size": 10,
              "solidity": 0.2
             }
            },
            "type": "histogram"
           }
          ],
          "histogram2d": [
           {
            "colorbar": {
             "outlinewidth": 0,
             "ticks": ""
            },
            "colorscale": [
             [
              0,
              "#0d0887"
             ],
             [
              0.1111111111111111,
              "#46039f"
             ],
             [
              0.2222222222222222,
              "#7201a8"
             ],
             [
              0.3333333333333333,
              "#9c179e"
             ],
             [
              0.4444444444444444,
              "#bd3786"
             ],
             [
              0.5555555555555556,
              "#d8576b"
             ],
             [
              0.6666666666666666,
              "#ed7953"
             ],
             [
              0.7777777777777778,
              "#fb9f3a"
             ],
             [
              0.8888888888888888,
              "#fdca26"
             ],
             [
              1,
              "#f0f921"
             ]
            ],
            "type": "histogram2d"
           }
          ],
          "histogram2dcontour": [
           {
            "colorbar": {
             "outlinewidth": 0,
             "ticks": ""
            },
            "colorscale": [
             [
              0,
              "#0d0887"
             ],
             [
              0.1111111111111111,
              "#46039f"
             ],
             [
              0.2222222222222222,
              "#7201a8"
             ],
             [
              0.3333333333333333,
              "#9c179e"
             ],
             [
              0.4444444444444444,
              "#bd3786"
             ],
             [
              0.5555555555555556,
              "#d8576b"
             ],
             [
              0.6666666666666666,
              "#ed7953"
             ],
             [
              0.7777777777777778,
              "#fb9f3a"
             ],
             [
              0.8888888888888888,
              "#fdca26"
             ],
             [
              1,
              "#f0f921"
             ]
            ],
            "type": "histogram2dcontour"
           }
          ],
          "mesh3d": [
           {
            "colorbar": {
             "outlinewidth": 0,
             "ticks": ""
            },
            "type": "mesh3d"
           }
          ],
          "parcoords": [
           {
            "line": {
             "colorbar": {
              "outlinewidth": 0,
              "ticks": ""
             }
            },
            "type": "parcoords"
           }
          ],
          "pie": [
           {
            "automargin": true,
            "type": "pie"
           }
          ],
          "scatter": [
           {
            "fillpattern": {
             "fillmode": "overlay",
             "size": 10,
             "solidity": 0.2
            },
            "type": "scatter"
           }
          ],
          "scatter3d": [
           {
            "line": {
             "colorbar": {
              "outlinewidth": 0,
              "ticks": ""
             }
            },
            "marker": {
             "colorbar": {
              "outlinewidth": 0,
              "ticks": ""
             }
            },
            "type": "scatter3d"
           }
          ],
          "scattercarpet": [
           {
            "marker": {
             "colorbar": {
              "outlinewidth": 0,
              "ticks": ""
             }
            },
            "type": "scattercarpet"
           }
          ],
          "scattergeo": [
           {
            "marker": {
             "colorbar": {
              "outlinewidth": 0,
              "ticks": ""
             }
            },
            "type": "scattergeo"
           }
          ],
          "scattergl": [
           {
            "marker": {
             "colorbar": {
              "outlinewidth": 0,
              "ticks": ""
             }
            },
            "type": "scattergl"
           }
          ],
          "scattermapbox": [
           {
            "marker": {
             "colorbar": {
              "outlinewidth": 0,
              "ticks": ""
             }
            },
            "type": "scattermapbox"
           }
          ],
          "scatterpolar": [
           {
            "marker": {
             "colorbar": {
              "outlinewidth": 0,
              "ticks": ""
             }
            },
            "type": "scatterpolar"
           }
          ],
          "scatterpolargl": [
           {
            "marker": {
             "colorbar": {
              "outlinewidth": 0,
              "ticks": ""
             }
            },
            "type": "scatterpolargl"
           }
          ],
          "scatterternary": [
           {
            "marker": {
             "colorbar": {
              "outlinewidth": 0,
              "ticks": ""
             }
            },
            "type": "scatterternary"
           }
          ],
          "surface": [
           {
            "colorbar": {
             "outlinewidth": 0,
             "ticks": ""
            },
            "colorscale": [
             [
              0,
              "#0d0887"
             ],
             [
              0.1111111111111111,
              "#46039f"
             ],
             [
              0.2222222222222222,
              "#7201a8"
             ],
             [
              0.3333333333333333,
              "#9c179e"
             ],
             [
              0.4444444444444444,
              "#bd3786"
             ],
             [
              0.5555555555555556,
              "#d8576b"
             ],
             [
              0.6666666666666666,
              "#ed7953"
             ],
             [
              0.7777777777777778,
              "#fb9f3a"
             ],
             [
              0.8888888888888888,
              "#fdca26"
             ],
             [
              1,
              "#f0f921"
             ]
            ],
            "type": "surface"
           }
          ],
          "table": [
           {
            "cells": {
             "fill": {
              "color": "#EBF0F8"
             },
             "line": {
              "color": "white"
             }
            },
            "header": {
             "fill": {
              "color": "#C8D4E3"
             },
             "line": {
              "color": "white"
             }
            },
            "type": "table"
           }
          ]
         },
         "layout": {
          "annotationdefaults": {
           "arrowcolor": "#2a3f5f",
           "arrowhead": 0,
           "arrowwidth": 1
          },
          "autotypenumbers": "strict",
          "coloraxis": {
           "colorbar": {
            "outlinewidth": 0,
            "ticks": ""
           }
          },
          "colorscale": {
           "diverging": [
            [
             0,
             "#8e0152"
            ],
            [
             0.1,
             "#c51b7d"
            ],
            [
             0.2,
             "#de77ae"
            ],
            [
             0.3,
             "#f1b6da"
            ],
            [
             0.4,
             "#fde0ef"
            ],
            [
             0.5,
             "#f7f7f7"
            ],
            [
             0.6,
             "#e6f5d0"
            ],
            [
             0.7,
             "#b8e186"
            ],
            [
             0.8,
             "#7fbc41"
            ],
            [
             0.9,
             "#4d9221"
            ],
            [
             1,
             "#276419"
            ]
           ],
           "sequential": [
            [
             0,
             "#0d0887"
            ],
            [
             0.1111111111111111,
             "#46039f"
            ],
            [
             0.2222222222222222,
             "#7201a8"
            ],
            [
             0.3333333333333333,
             "#9c179e"
            ],
            [
             0.4444444444444444,
             "#bd3786"
            ],
            [
             0.5555555555555556,
             "#d8576b"
            ],
            [
             0.6666666666666666,
             "#ed7953"
            ],
            [
             0.7777777777777778,
             "#fb9f3a"
            ],
            [
             0.8888888888888888,
             "#fdca26"
            ],
            [
             1,
             "#f0f921"
            ]
           ],
           "sequentialminus": [
            [
             0,
             "#0d0887"
            ],
            [
             0.1111111111111111,
             "#46039f"
            ],
            [
             0.2222222222222222,
             "#7201a8"
            ],
            [
             0.3333333333333333,
             "#9c179e"
            ],
            [
             0.4444444444444444,
             "#bd3786"
            ],
            [
             0.5555555555555556,
             "#d8576b"
            ],
            [
             0.6666666666666666,
             "#ed7953"
            ],
            [
             0.7777777777777778,
             "#fb9f3a"
            ],
            [
             0.8888888888888888,
             "#fdca26"
            ],
            [
             1,
             "#f0f921"
            ]
           ]
          },
          "colorway": [
           "#636efa",
           "#EF553B",
           "#00cc96",
           "#ab63fa",
           "#FFA15A",
           "#19d3f3",
           "#FF6692",
           "#B6E880",
           "#FF97FF",
           "#FECB52"
          ],
          "font": {
           "color": "#2a3f5f"
          },
          "geo": {
           "bgcolor": "white",
           "lakecolor": "white",
           "landcolor": "#E5ECF6",
           "showlakes": true,
           "showland": true,
           "subunitcolor": "white"
          },
          "hoverlabel": {
           "align": "left"
          },
          "hovermode": "closest",
          "mapbox": {
           "style": "light"
          },
          "paper_bgcolor": "white",
          "plot_bgcolor": "#E5ECF6",
          "polar": {
           "angularaxis": {
            "gridcolor": "white",
            "linecolor": "white",
            "ticks": ""
           },
           "bgcolor": "#E5ECF6",
           "radialaxis": {
            "gridcolor": "white",
            "linecolor": "white",
            "ticks": ""
           }
          },
          "scene": {
           "xaxis": {
            "backgroundcolor": "#E5ECF6",
            "gridcolor": "white",
            "gridwidth": 2,
            "linecolor": "white",
            "showbackground": true,
            "ticks": "",
            "zerolinecolor": "white"
           },
           "yaxis": {
            "backgroundcolor": "#E5ECF6",
            "gridcolor": "white",
            "gridwidth": 2,
            "linecolor": "white",
            "showbackground": true,
            "ticks": "",
            "zerolinecolor": "white"
           },
           "zaxis": {
            "backgroundcolor": "#E5ECF6",
            "gridcolor": "white",
            "gridwidth": 2,
            "linecolor": "white",
            "showbackground": true,
            "ticks": "",
            "zerolinecolor": "white"
           }
          },
          "shapedefaults": {
           "line": {
            "color": "#2a3f5f"
           }
          },
          "ternary": {
           "aaxis": {
            "gridcolor": "white",
            "linecolor": "white",
            "ticks": ""
           },
           "baxis": {
            "gridcolor": "white",
            "linecolor": "white",
            "ticks": ""
           },
           "bgcolor": "#E5ECF6",
           "caxis": {
            "gridcolor": "white",
            "linecolor": "white",
            "ticks": ""
           }
          },
          "title": {
           "x": 0.05
          },
          "xaxis": {
           "automargin": true,
           "gridcolor": "white",
           "linecolor": "white",
           "ticks": "",
           "title": {
            "standoff": 15
           },
           "zerolinecolor": "white",
           "zerolinewidth": 2
          },
          "yaxis": {
           "automargin": true,
           "gridcolor": "white",
           "linecolor": "white",
           "ticks": "",
           "title": {
            "standoff": 15
           },
           "zerolinecolor": "white",
           "zerolinewidth": 2
          }
         }
        },
        "xaxis": {
         "tickangle": -45
        }
       }
      }
     },
     "metadata": {},
     "output_type": "display_data"
    }
   ],
   "source": [
    "fig = go.Figure()\n",
    "fig.add_trace(go.Bar(\n",
    "    x=data[\"Day\"],\n",
    "    y=data[\"VeryActiveMinutes\"],\n",
    "    name='Very Active',\n",
    "    marker_color='purple'\n",
    "))\n",
    "fig.add_trace(go.Bar(\n",
    "    x=data[\"Day\"],\n",
    "    y=data[\"FairlyActiveMinutes\"],\n",
    "    name='Fairly Active',\n",
    "    marker_color='green'\n",
    "))\n",
    "fig.add_trace(go.Bar(\n",
    "    x=data[\"Day\"],\n",
    "    y=data[\"LightlyActiveMinutes\"],\n",
    "    name='Lightly Active',\n",
    "    marker_color='pink'\n",
    "))\n",
    "fig.update_layout(barmode='group', xaxis_tickangle=-45)\n",
    "fig.show()"
   ]
  },
  {
   "cell_type": "markdown",
   "metadata": {},
   "source": [
    "let’s have a look at the number of inactive minutes on each day of the week"
   ]
  },
  {
   "cell_type": "code",
   "execution_count": 18,
   "metadata": {},
   "outputs": [
    {
     "data": {
      "application/vnd.plotly.v1+json": {
       "config": {
        "plotlyServerURL": "https://plot.ly"
       },
       "data": [
        {
         "hoverinfo": "label+percent",
         "labels": [
          "Saturday",
          "Friday",
          "Tuesday",
          "Sunday",
          "Monday",
          "Wednesday",
          "Thursday"
         ],
         "marker": {
          "colors": [
           "gold",
           "lightgreen",
           "pink",
           "blue",
           "skyblue",
           "cyan",
           "orange"
          ],
          "line": {
           "color": "black",
           "width": 3
          }
         },
         "textfont": {
          "size": 30
         },
         "textinfo": "value",
         "type": "pie",
         "values": [
          804,
          588,
          605,
          1080,
          763,
          1174,
          820,
          866,
          636,
          655,
          757,
          736,
          1173,
          1208,
          1160,
          738,
          737,
          855,
          32,
          1319,
          1393,
          1328,
          1345,
          1374,
          1356,
          1285,
          1219,
          1352,
          1283,
          1170,
          1366,
          1385,
          1386,
          1297,
          1318,
          1240,
          1268,
          604,
          838,
          918,
          1082,
          1345,
          1181,
          1244,
          1149,
          1229,
          1149,
          207,
          1171,
          1177,
          1114,
          669,
          1440,
          1439,
          1150,
          1219,
          620,
          810,
          1189,
          426,
          854,
          858,
          1183,
          829,
          912,
          938,
          1397,
          1406,
          1250,
          805,
          842,
          161,
          1139,
          1203,
          1114,
          1126,
          1069,
          1093,
          1054,
          1092,
          1078,
          1077,
          1111,
          551,
          729,
          795,
          720,
          644,
          621,
          738,
          673,
          719,
          700,
          654,
          694,
          223,
          1440,
          1440,
          1440,
          1440,
          1265,
          1120,
          1347,
          1287,
          1220,
          1337,
          1038,
          617,
          700,
          615,
          613,
          804,
          583,
          491,
          638,
          696,
          759,
          1002,
          711,
          970,
          463,
          788,
          425,
          1399,
          1243,
          1107,
          1055,
          1066,
          1058,
          1055,
          1060,
          1098,
          1180,
          882,
          1440,
          1440,
          1440,
          1440,
          780,
          720,
          1440,
          1440,
          99,
          1129,
          1074,
          1141,
          1180,
          1192,
          1094,
          1085,
          1158,
          1063,
          735,
          842,
          842,
          748,
          710,
          605,
          614,
          815,
          685,
          697,
          866,
          894,
          187,
          757,
          771,
          1005,
          874,
          599,
          986,
          1440,
          1440,
          1440,
          1440,
          1440,
          1440,
          1440,
          1440,
          1440,
          1440,
          1289,
          1253,
          795,
          860,
          748,
          752,
          776,
          741,
          1249,
          920,
          1191,
          1125,
          1185,
          1178,
          888,
          321,
          1440,
          1440,
          1268,
          1440,
          1397,
          1440,
          1406,
          1440,
          1438,
          1394,
          1271,
          1236,
          1439,
          1440,
          1440,
          1354,
          1439,
          1280,
          1295,
          1440,
          1440,
          1440,
          1440,
          1440,
          1440,
          1438,
          1439,
          1293,
          1380,
          1324,
          1247,
          400,
          683,
          702,
          1125,
          654,
          621,
          551,
          578,
          638,
          569,
          668,
          1132,
          1440,
          1440,
          1440,
          1440,
          1440,
          1440,
          1440,
          1440,
          994,
          807,
          1277,
          786,
          898,
          672,
          1269,
          1330,
          702,
          745,
          939,
          941,
          758,
          755,
          789,
          253,
          1182,
          1180,
          886,
          1073,
          1217,
          1181,
          1105,
          1199,
          1164,
          1150,
          1132,
          555,
          760,
          742,
          759,
          708,
          475,
          471,
          746,
          770,
          708,
          770,
          808,
          407,
          528,
          809,
          1440,
          782,
          356,
          507,
          754,
          772,
          745,
          731,
          767,
          578,
          552,
          688,
          61,
          721,
          663,
          700,
          689,
          756,
          695,
          756,
          813,
          601,
          721,
          209,
          568,
          466,
          1440,
          1148,
          990,
          388,
          770,
          1018,
          413,
          1440,
          1160,
          1195,
          1407,
          1440,
          1440,
          1440,
          1440,
          1440,
          1440,
          494,
          1440,
          1394,
          1440,
          1440,
          1133,
          1432,
          1440,
          1440,
          198,
          1189,
          909,
          1414,
          1440,
          1011,
          550,
          739,
          1308,
          601,
          641,
          595,
          602,
          732,
          589,
          570,
          692,
          593,
          665,
          697,
          609,
          679,
          678,
          146,
          1139,
          1075,
          1002,
          1057,
          1030,
          1098,
          1015,
          1063,
          1074,
          1030,
          1020,
          405,
          777,
          872,
          1404,
          1247,
          1159,
          814,
          695,
          797,
          717,
          1368,
          741,
          75,
          1125,
          1142,
          1123,
          1150,
          1135,
          1143,
          1221,
          1255,
          1185,
          1181,
          599,
          1440,
          1440,
          1440,
          1440,
          1440,
          1346,
          1303,
          1230,
          1256,
          1314,
          1139,
          1440,
          719,
          657,
          600,
          658,
          686,
          728,
          670,
          868,
          843,
          727,
          811,
          243,
          1328,
          1274,
          1309,
          1293,
          1208,
          1328,
          1302,
          1052,
          748,
          1079,
          636,
          675,
          904,
          855,
          888,
          912,
          739,
          1261,
          1428,
          598,
          1123,
          1040,
          1058,
          1138,
          1181,
          1019,
          1185,
          982,
          1052,
          1055,
          1190,
          531
         ]
        }
       ],
       "layout": {
        "template": {
         "data": {
          "bar": [
           {
            "error_x": {
             "color": "#2a3f5f"
            },
            "error_y": {
             "color": "#2a3f5f"
            },
            "marker": {
             "line": {
              "color": "#E5ECF6",
              "width": 0.5
             },
             "pattern": {
              "fillmode": "overlay",
              "size": 10,
              "solidity": 0.2
             }
            },
            "type": "bar"
           }
          ],
          "barpolar": [
           {
            "marker": {
             "line": {
              "color": "#E5ECF6",
              "width": 0.5
             },
             "pattern": {
              "fillmode": "overlay",
              "size": 10,
              "solidity": 0.2
             }
            },
            "type": "barpolar"
           }
          ],
          "carpet": [
           {
            "aaxis": {
             "endlinecolor": "#2a3f5f",
             "gridcolor": "white",
             "linecolor": "white",
             "minorgridcolor": "white",
             "startlinecolor": "#2a3f5f"
            },
            "baxis": {
             "endlinecolor": "#2a3f5f",
             "gridcolor": "white",
             "linecolor": "white",
             "minorgridcolor": "white",
             "startlinecolor": "#2a3f5f"
            },
            "type": "carpet"
           }
          ],
          "choropleth": [
           {
            "colorbar": {
             "outlinewidth": 0,
             "ticks": ""
            },
            "type": "choropleth"
           }
          ],
          "contour": [
           {
            "colorbar": {
             "outlinewidth": 0,
             "ticks": ""
            },
            "colorscale": [
             [
              0,
              "#0d0887"
             ],
             [
              0.1111111111111111,
              "#46039f"
             ],
             [
              0.2222222222222222,
              "#7201a8"
             ],
             [
              0.3333333333333333,
              "#9c179e"
             ],
             [
              0.4444444444444444,
              "#bd3786"
             ],
             [
              0.5555555555555556,
              "#d8576b"
             ],
             [
              0.6666666666666666,
              "#ed7953"
             ],
             [
              0.7777777777777778,
              "#fb9f3a"
             ],
             [
              0.8888888888888888,
              "#fdca26"
             ],
             [
              1,
              "#f0f921"
             ]
            ],
            "type": "contour"
           }
          ],
          "contourcarpet": [
           {
            "colorbar": {
             "outlinewidth": 0,
             "ticks": ""
            },
            "type": "contourcarpet"
           }
          ],
          "heatmap": [
           {
            "colorbar": {
             "outlinewidth": 0,
             "ticks": ""
            },
            "colorscale": [
             [
              0,
              "#0d0887"
             ],
             [
              0.1111111111111111,
              "#46039f"
             ],
             [
              0.2222222222222222,
              "#7201a8"
             ],
             [
              0.3333333333333333,
              "#9c179e"
             ],
             [
              0.4444444444444444,
              "#bd3786"
             ],
             [
              0.5555555555555556,
              "#d8576b"
             ],
             [
              0.6666666666666666,
              "#ed7953"
             ],
             [
              0.7777777777777778,
              "#fb9f3a"
             ],
             [
              0.8888888888888888,
              "#fdca26"
             ],
             [
              1,
              "#f0f921"
             ]
            ],
            "type": "heatmap"
           }
          ],
          "heatmapgl": [
           {
            "colorbar": {
             "outlinewidth": 0,
             "ticks": ""
            },
            "colorscale": [
             [
              0,
              "#0d0887"
             ],
             [
              0.1111111111111111,
              "#46039f"
             ],
             [
              0.2222222222222222,
              "#7201a8"
             ],
             [
              0.3333333333333333,
              "#9c179e"
             ],
             [
              0.4444444444444444,
              "#bd3786"
             ],
             [
              0.5555555555555556,
              "#d8576b"
             ],
             [
              0.6666666666666666,
              "#ed7953"
             ],
             [
              0.7777777777777778,
              "#fb9f3a"
             ],
             [
              0.8888888888888888,
              "#fdca26"
             ],
             [
              1,
              "#f0f921"
             ]
            ],
            "type": "heatmapgl"
           }
          ],
          "histogram": [
           {
            "marker": {
             "pattern": {
              "fillmode": "overlay",
              "size": 10,
              "solidity": 0.2
             }
            },
            "type": "histogram"
           }
          ],
          "histogram2d": [
           {
            "colorbar": {
             "outlinewidth": 0,
             "ticks": ""
            },
            "colorscale": [
             [
              0,
              "#0d0887"
             ],
             [
              0.1111111111111111,
              "#46039f"
             ],
             [
              0.2222222222222222,
              "#7201a8"
             ],
             [
              0.3333333333333333,
              "#9c179e"
             ],
             [
              0.4444444444444444,
              "#bd3786"
             ],
             [
              0.5555555555555556,
              "#d8576b"
             ],
             [
              0.6666666666666666,
              "#ed7953"
             ],
             [
              0.7777777777777778,
              "#fb9f3a"
             ],
             [
              0.8888888888888888,
              "#fdca26"
             ],
             [
              1,
              "#f0f921"
             ]
            ],
            "type": "histogram2d"
           }
          ],
          "histogram2dcontour": [
           {
            "colorbar": {
             "outlinewidth": 0,
             "ticks": ""
            },
            "colorscale": [
             [
              0,
              "#0d0887"
             ],
             [
              0.1111111111111111,
              "#46039f"
             ],
             [
              0.2222222222222222,
              "#7201a8"
             ],
             [
              0.3333333333333333,
              "#9c179e"
             ],
             [
              0.4444444444444444,
              "#bd3786"
             ],
             [
              0.5555555555555556,
              "#d8576b"
             ],
             [
              0.6666666666666666,
              "#ed7953"
             ],
             [
              0.7777777777777778,
              "#fb9f3a"
             ],
             [
              0.8888888888888888,
              "#fdca26"
             ],
             [
              1,
              "#f0f921"
             ]
            ],
            "type": "histogram2dcontour"
           }
          ],
          "mesh3d": [
           {
            "colorbar": {
             "outlinewidth": 0,
             "ticks": ""
            },
            "type": "mesh3d"
           }
          ],
          "parcoords": [
           {
            "line": {
             "colorbar": {
              "outlinewidth": 0,
              "ticks": ""
             }
            },
            "type": "parcoords"
           }
          ],
          "pie": [
           {
            "automargin": true,
            "type": "pie"
           }
          ],
          "scatter": [
           {
            "fillpattern": {
             "fillmode": "overlay",
             "size": 10,
             "solidity": 0.2
            },
            "type": "scatter"
           }
          ],
          "scatter3d": [
           {
            "line": {
             "colorbar": {
              "outlinewidth": 0,
              "ticks": ""
             }
            },
            "marker": {
             "colorbar": {
              "outlinewidth": 0,
              "ticks": ""
             }
            },
            "type": "scatter3d"
           }
          ],
          "scattercarpet": [
           {
            "marker": {
             "colorbar": {
              "outlinewidth": 0,
              "ticks": ""
             }
            },
            "type": "scattercarpet"
           }
          ],
          "scattergeo": [
           {
            "marker": {
             "colorbar": {
              "outlinewidth": 0,
              "ticks": ""
             }
            },
            "type": "scattergeo"
           }
          ],
          "scattergl": [
           {
            "marker": {
             "colorbar": {
              "outlinewidth": 0,
              "ticks": ""
             }
            },
            "type": "scattergl"
           }
          ],
          "scattermapbox": [
           {
            "marker": {
             "colorbar": {
              "outlinewidth": 0,
              "ticks": ""
             }
            },
            "type": "scattermapbox"
           }
          ],
          "scatterpolar": [
           {
            "marker": {
             "colorbar": {
              "outlinewidth": 0,
              "ticks": ""
             }
            },
            "type": "scatterpolar"
           }
          ],
          "scatterpolargl": [
           {
            "marker": {
             "colorbar": {
              "outlinewidth": 0,
              "ticks": ""
             }
            },
            "type": "scatterpolargl"
           }
          ],
          "scatterternary": [
           {
            "marker": {
             "colorbar": {
              "outlinewidth": 0,
              "ticks": ""
             }
            },
            "type": "scatterternary"
           }
          ],
          "surface": [
           {
            "colorbar": {
             "outlinewidth": 0,
             "ticks": ""
            },
            "colorscale": [
             [
              0,
              "#0d0887"
             ],
             [
              0.1111111111111111,
              "#46039f"
             ],
             [
              0.2222222222222222,
              "#7201a8"
             ],
             [
              0.3333333333333333,
              "#9c179e"
             ],
             [
              0.4444444444444444,
              "#bd3786"
             ],
             [
              0.5555555555555556,
              "#d8576b"
             ],
             [
              0.6666666666666666,
              "#ed7953"
             ],
             [
              0.7777777777777778,
              "#fb9f3a"
             ],
             [
              0.8888888888888888,
              "#fdca26"
             ],
             [
              1,
              "#f0f921"
             ]
            ],
            "type": "surface"
           }
          ],
          "table": [
           {
            "cells": {
             "fill": {
              "color": "#EBF0F8"
             },
             "line": {
              "color": "white"
             }
            },
            "header": {
             "fill": {
              "color": "#C8D4E3"
             },
             "line": {
              "color": "white"
             }
            },
            "type": "table"
           }
          ]
         },
         "layout": {
          "annotationdefaults": {
           "arrowcolor": "#2a3f5f",
           "arrowhead": 0,
           "arrowwidth": 1
          },
          "autotypenumbers": "strict",
          "coloraxis": {
           "colorbar": {
            "outlinewidth": 0,
            "ticks": ""
           }
          },
          "colorscale": {
           "diverging": [
            [
             0,
             "#8e0152"
            ],
            [
             0.1,
             "#c51b7d"
            ],
            [
             0.2,
             "#de77ae"
            ],
            [
             0.3,
             "#f1b6da"
            ],
            [
             0.4,
             "#fde0ef"
            ],
            [
             0.5,
             "#f7f7f7"
            ],
            [
             0.6,
             "#e6f5d0"
            ],
            [
             0.7,
             "#b8e186"
            ],
            [
             0.8,
             "#7fbc41"
            ],
            [
             0.9,
             "#4d9221"
            ],
            [
             1,
             "#276419"
            ]
           ],
           "sequential": [
            [
             0,
             "#0d0887"
            ],
            [
             0.1111111111111111,
             "#46039f"
            ],
            [
             0.2222222222222222,
             "#7201a8"
            ],
            [
             0.3333333333333333,
             "#9c179e"
            ],
            [
             0.4444444444444444,
             "#bd3786"
            ],
            [
             0.5555555555555556,
             "#d8576b"
            ],
            [
             0.6666666666666666,
             "#ed7953"
            ],
            [
             0.7777777777777778,
             "#fb9f3a"
            ],
            [
             0.8888888888888888,
             "#fdca26"
            ],
            [
             1,
             "#f0f921"
            ]
           ],
           "sequentialminus": [
            [
             0,
             "#0d0887"
            ],
            [
             0.1111111111111111,
             "#46039f"
            ],
            [
             0.2222222222222222,
             "#7201a8"
            ],
            [
             0.3333333333333333,
             "#9c179e"
            ],
            [
             0.4444444444444444,
             "#bd3786"
            ],
            [
             0.5555555555555556,
             "#d8576b"
            ],
            [
             0.6666666666666666,
             "#ed7953"
            ],
            [
             0.7777777777777778,
             "#fb9f3a"
            ],
            [
             0.8888888888888888,
             "#fdca26"
            ],
            [
             1,
             "#f0f921"
            ]
           ]
          },
          "colorway": [
           "#636efa",
           "#EF553B",
           "#00cc96",
           "#ab63fa",
           "#FFA15A",
           "#19d3f3",
           "#FF6692",
           "#B6E880",
           "#FF97FF",
           "#FECB52"
          ],
          "font": {
           "color": "#2a3f5f"
          },
          "geo": {
           "bgcolor": "white",
           "lakecolor": "white",
           "landcolor": "#E5ECF6",
           "showlakes": true,
           "showland": true,
           "subunitcolor": "white"
          },
          "hoverlabel": {
           "align": "left"
          },
          "hovermode": "closest",
          "mapbox": {
           "style": "light"
          },
          "paper_bgcolor": "white",
          "plot_bgcolor": "#E5ECF6",
          "polar": {
           "angularaxis": {
            "gridcolor": "white",
            "linecolor": "white",
            "ticks": ""
           },
           "bgcolor": "#E5ECF6",
           "radialaxis": {
            "gridcolor": "white",
            "linecolor": "white",
            "ticks": ""
           }
          },
          "scene": {
           "xaxis": {
            "backgroundcolor": "#E5ECF6",
            "gridcolor": "white",
            "gridwidth": 2,
            "linecolor": "white",
            "showbackground": true,
            "ticks": "",
            "zerolinecolor": "white"
           },
           "yaxis": {
            "backgroundcolor": "#E5ECF6",
            "gridcolor": "white",
            "gridwidth": 2,
            "linecolor": "white",
            "showbackground": true,
            "ticks": "",
            "zerolinecolor": "white"
           },
           "zaxis": {
            "backgroundcolor": "#E5ECF6",
            "gridcolor": "white",
            "gridwidth": 2,
            "linecolor": "white",
            "showbackground": true,
            "ticks": "",
            "zerolinecolor": "white"
           }
          },
          "shapedefaults": {
           "line": {
            "color": "#2a3f5f"
           }
          },
          "ternary": {
           "aaxis": {
            "gridcolor": "white",
            "linecolor": "white",
            "ticks": ""
           },
           "baxis": {
            "gridcolor": "white",
            "linecolor": "white",
            "ticks": ""
           },
           "bgcolor": "#E5ECF6",
           "caxis": {
            "gridcolor": "white",
            "linecolor": "white",
            "ticks": ""
           }
          },
          "title": {
           "x": 0.05
          },
          "xaxis": {
           "automargin": true,
           "gridcolor": "white",
           "linecolor": "white",
           "ticks": "",
           "title": {
            "standoff": 15
           },
           "zerolinecolor": "white",
           "zerolinewidth": 2
          },
          "yaxis": {
           "automargin": true,
           "gridcolor": "white",
           "linecolor": "white",
           "ticks": "",
           "title": {
            "standoff": 15
           },
           "zerolinecolor": "white",
           "zerolinewidth": 2
          }
         }
        },
        "title": {
         "text": "Inactive Minutes Daily"
        }
       }
      }
     },
     "metadata": {},
     "output_type": "display_data"
    }
   ],
   "source": [
    "day = data[\"Day\"].value_counts()\n",
    "label = day.index\n",
    "counts = data[\"SedentaryMinutes\"]\n",
    "colors = ['gold','lightgreen', \"pink\", \"blue\", \"skyblue\", \"cyan\", \"orange\"]\n",
    "\n",
    "fig = go.Figure(data=[go.Pie(labels=label, values=counts)])\n",
    "fig.update_layout(title_text='Inactive Minutes Daily')\n",
    "fig.update_traces(hoverinfo='label+percent', textinfo='value', textfont_size=30,\n",
    "                  marker=dict(colors=colors, line=dict(color='black', width=3)))\n",
    "fig.show()"
   ]
  },
  {
   "cell_type": "markdown",
   "metadata": {},
   "source": [
    "So Thursday is the most inactive day according to the lifestyle of all the individuals in the dataset."
   ]
  },
  {
   "cell_type": "markdown",
   "metadata": {},
   "source": [
    " let’s have a look at the number of calories burned on each day of the week"
   ]
  },
  {
   "cell_type": "code",
   "execution_count": 19,
   "metadata": {},
   "outputs": [
    {
     "data": {
      "application/vnd.plotly.v1+json": {
       "config": {
        "plotlyServerURL": "https://plot.ly"
       },
       "data": [
        {
         "hoverinfo": "label+percent",
         "labels": [
          "Saturday",
          "Friday",
          "Tuesday",
          "Sunday",
          "Monday",
          "Wednesday",
          "Thursday"
         ],
         "marker": {
          "colors": [
           "gold",
           "lightgreen",
           "pink",
           "blue",
           "skyblue",
           "cyan",
           "orange"
          ],
          "line": {
           "color": "black",
           "width": 3
          }
         },
         "textfont": {
          "size": 30
         },
         "textinfo": "value",
         "type": "pie",
         "values": [
          1819,
          2154,
          1944,
          1932,
          1886,
          1820,
          1889,
          1868,
          1843,
          1850,
          2030,
          2083,
          1861,
          1755,
          1895,
          1883,
          1755,
          1811,
          50,
          1373,
          1264,
          1350,
          1342,
          1300,
          1313,
          1498,
          1541,
          1327,
          1452,
          1574,
          1308,
          1276,
          1278,
          1409,
          1370,
          1555,
          1469,
          706,
          3323,
          4029,
          3436,
          2444,
          3098,
          2925,
          3202,
          2928,
          3290,
          489,
          1969,
          1889,
          1636,
          1347,
          1347,
          1349,
          1965,
          1824,
          1807,
          1971,
          1888,
          399,
          2590,
          2783,
          2449,
          2380,
          2344,
          2202,
          2130,
          2088,
          2443,
          2442,
          2255,
          942,
          2645,
          2040,
          2395,
          2581,
          2735,
          2733,
          3021,
          2577,
          2811,
          2458,
          2568,
          1140,
          1407,
          1237,
          1330,
          1583,
          1538,
          1421,
          1392,
          1425,
          1413,
          1515,
          1405,
          600,
          1324,
          1324,
          1324,
          1324,
          1708,
          1950,
          1508,
          1625,
          1772,
          1530,
          2206,
          790,
          2041,
          2187,
          1929,
          1935,
          2438,
          2035,
          2099,
          2096,
          2058,
          2338,
          2104,
          2488,
          2164,
          2009,
          399,
          1335,
          1559,
          1845,
          2046,
          1953,
          1910,
          2035,
          1944,
          2257,
          1724,
          1741,
          0,
          1920,
          1920,
          1920,
          4562,
          2881,
          1920,
          1920,
          1144,
          1852,
          2069,
          1816,
          1878,
          1787,
          2010,
          2038,
          1815,
          2062,
          1276,
          1288,
          1490,
          1630,
          1648,
          1649,
          1783,
          1431,
          1524,
          1697,
          1232,
          1223,
          182,
          2990,
          2480,
          2570,
          3016,
          3830,
          3706,
          2024,
          2980,
          3728,
          3348,
          3162,
          3140,
          1980,
          3681,
          3444,
          3510,
          4010,
          2976,
          3418,
          3439,
          3338,
          2892,
          3313,
          3118,
          2966,
          3253,
          3032,
          4034,
          3264,
          2817,
          2507,
          446,
          1777,
          1777,
          2453,
          1776,
          1935,
          1776,
          1870,
          1777,
          1782,
          1978,
          2296,
          2484,
          1787,
          1776,
          1776,
          2005,
          1778,
          2293,
          2259,
          1776,
          1776,
          1776,
          1776,
          1776,
          1776,
          1780,
          1778,
          2360,
          1952,
          2101,
          2393,
          538,
          1958,
          2141,
          2129,
          2216,
          2154,
          2178,
          2308,
          2201,
          2341,
          2236,
          2069,
          0,
          1878,
          1878,
          1878,
          1878,
          1878,
          1878,
          1878,
          1296,
          2010,
          2032,
          2227,
          2133,
          2317,
          2058,
          1935,
          2217,
          2374,
          2335,
          2303,
          2210,
          2424,
          2297,
          745,
          1902,
          1680,
          1901,
          2078,
          1876,
          1853,
          2235,
          1778,
          1882,
          1906,
          2149,
          722,
          2886,
          2915,
          2895,
          2923,
          3323,
          3357,
          2931,
          2848,
          2943,
          2822,
          2981,
          3597,
          3224,
          2677,
          0,
          2142,
          1615,
          1481,
          1892,
          2086,
          2044,
          2249,
          2019,
          1692,
          1712,
          2065,
          633,
          3625,
          4430,
          3427,
          3492,
          3597,
          3765,
          2775,
          2486,
          3817,
          3378,
          1511,
          2210,
          2884,
          1496,
          2262,
          2445,
          2694,
          1903,
          2482,
          2617,
          0,
          2778,
          3119,
          2664,
          2060,
          2060,
          2060,
          2060,
          2060,
          2060,
          735,
          1820,
          2224,
          1820,
          1820,
          2442,
          1849,
          1822,
          1820,
          251,
          3065,
          2207,
          1977,
          1841,
          4286,
          3920,
          3856,
          2584,
          787,
          2244,
          2188,
          2014,
          2115,
          2055,
          2437,
          2158,
          2170,
          2244,
          2188,
          2231,
          2100,
          2188,
          917,
          2573,
          2575,
          3086,
          2886,
          2676,
          2811,
          2840,
          2871,
          2613,
          2700,
          2871,
          1023,
          2496,
          1641,
          1794,
          2421,
          2439,
          2233,
          2862,
          2752,
          2519,
          1799,
          2543,
          625,
          3377,
          3697,
          3209,
          3167,
          3122,
          3176,
          2790,
          2715,
          2684,
          3097,
          791,
          1429,
          1429,
          1429,
          1429,
          1429,
          1607,
          1776,
          2162,
          1832,
          1657,
          1377,
          0,
          3669,
          2702,
          3304,
          4234,
          4128,
          3798,
          3839,
          3713,
          2606,
          2624,
          3775,
          1882,
          2360,
          2517,
          2400,
          2462,
          2786,
          2354,
          2437,
          1814,
          2260,
          3004,
          2667,
          2229,
          2100,
          2114,
          1961,
          1953,
          1890,
          2253,
          1725,
          728,
          3527,
          4220,
          3864,
          3662,
          2834,
          4039,
          2947,
          4196,
          3841,
          4526,
          2820,
          938
         ]
        }
       ],
       "layout": {
        "template": {
         "data": {
          "bar": [
           {
            "error_x": {
             "color": "#2a3f5f"
            },
            "error_y": {
             "color": "#2a3f5f"
            },
            "marker": {
             "line": {
              "color": "#E5ECF6",
              "width": 0.5
             },
             "pattern": {
              "fillmode": "overlay",
              "size": 10,
              "solidity": 0.2
             }
            },
            "type": "bar"
           }
          ],
          "barpolar": [
           {
            "marker": {
             "line": {
              "color": "#E5ECF6",
              "width": 0.5
             },
             "pattern": {
              "fillmode": "overlay",
              "size": 10,
              "solidity": 0.2
             }
            },
            "type": "barpolar"
           }
          ],
          "carpet": [
           {
            "aaxis": {
             "endlinecolor": "#2a3f5f",
             "gridcolor": "white",
             "linecolor": "white",
             "minorgridcolor": "white",
             "startlinecolor": "#2a3f5f"
            },
            "baxis": {
             "endlinecolor": "#2a3f5f",
             "gridcolor": "white",
             "linecolor": "white",
             "minorgridcolor": "white",
             "startlinecolor": "#2a3f5f"
            },
            "type": "carpet"
           }
          ],
          "choropleth": [
           {
            "colorbar": {
             "outlinewidth": 0,
             "ticks": ""
            },
            "type": "choropleth"
           }
          ],
          "contour": [
           {
            "colorbar": {
             "outlinewidth": 0,
             "ticks": ""
            },
            "colorscale": [
             [
              0,
              "#0d0887"
             ],
             [
              0.1111111111111111,
              "#46039f"
             ],
             [
              0.2222222222222222,
              "#7201a8"
             ],
             [
              0.3333333333333333,
              "#9c179e"
             ],
             [
              0.4444444444444444,
              "#bd3786"
             ],
             [
              0.5555555555555556,
              "#d8576b"
             ],
             [
              0.6666666666666666,
              "#ed7953"
             ],
             [
              0.7777777777777778,
              "#fb9f3a"
             ],
             [
              0.8888888888888888,
              "#fdca26"
             ],
             [
              1,
              "#f0f921"
             ]
            ],
            "type": "contour"
           }
          ],
          "contourcarpet": [
           {
            "colorbar": {
             "outlinewidth": 0,
             "ticks": ""
            },
            "type": "contourcarpet"
           }
          ],
          "heatmap": [
           {
            "colorbar": {
             "outlinewidth": 0,
             "ticks": ""
            },
            "colorscale": [
             [
              0,
              "#0d0887"
             ],
             [
              0.1111111111111111,
              "#46039f"
             ],
             [
              0.2222222222222222,
              "#7201a8"
             ],
             [
              0.3333333333333333,
              "#9c179e"
             ],
             [
              0.4444444444444444,
              "#bd3786"
             ],
             [
              0.5555555555555556,
              "#d8576b"
             ],
             [
              0.6666666666666666,
              "#ed7953"
             ],
             [
              0.7777777777777778,
              "#fb9f3a"
             ],
             [
              0.8888888888888888,
              "#fdca26"
             ],
             [
              1,
              "#f0f921"
             ]
            ],
            "type": "heatmap"
           }
          ],
          "heatmapgl": [
           {
            "colorbar": {
             "outlinewidth": 0,
             "ticks": ""
            },
            "colorscale": [
             [
              0,
              "#0d0887"
             ],
             [
              0.1111111111111111,
              "#46039f"
             ],
             [
              0.2222222222222222,
              "#7201a8"
             ],
             [
              0.3333333333333333,
              "#9c179e"
             ],
             [
              0.4444444444444444,
              "#bd3786"
             ],
             [
              0.5555555555555556,
              "#d8576b"
             ],
             [
              0.6666666666666666,
              "#ed7953"
             ],
             [
              0.7777777777777778,
              "#fb9f3a"
             ],
             [
              0.8888888888888888,
              "#fdca26"
             ],
             [
              1,
              "#f0f921"
             ]
            ],
            "type": "heatmapgl"
           }
          ],
          "histogram": [
           {
            "marker": {
             "pattern": {
              "fillmode": "overlay",
              "size": 10,
              "solidity": 0.2
             }
            },
            "type": "histogram"
           }
          ],
          "histogram2d": [
           {
            "colorbar": {
             "outlinewidth": 0,
             "ticks": ""
            },
            "colorscale": [
             [
              0,
              "#0d0887"
             ],
             [
              0.1111111111111111,
              "#46039f"
             ],
             [
              0.2222222222222222,
              "#7201a8"
             ],
             [
              0.3333333333333333,
              "#9c179e"
             ],
             [
              0.4444444444444444,
              "#bd3786"
             ],
             [
              0.5555555555555556,
              "#d8576b"
             ],
             [
              0.6666666666666666,
              "#ed7953"
             ],
             [
              0.7777777777777778,
              "#fb9f3a"
             ],
             [
              0.8888888888888888,
              "#fdca26"
             ],
             [
              1,
              "#f0f921"
             ]
            ],
            "type": "histogram2d"
           }
          ],
          "histogram2dcontour": [
           {
            "colorbar": {
             "outlinewidth": 0,
             "ticks": ""
            },
            "colorscale": [
             [
              0,
              "#0d0887"
             ],
             [
              0.1111111111111111,
              "#46039f"
             ],
             [
              0.2222222222222222,
              "#7201a8"
             ],
             [
              0.3333333333333333,
              "#9c179e"
             ],
             [
              0.4444444444444444,
              "#bd3786"
             ],
             [
              0.5555555555555556,
              "#d8576b"
             ],
             [
              0.6666666666666666,
              "#ed7953"
             ],
             [
              0.7777777777777778,
              "#fb9f3a"
             ],
             [
              0.8888888888888888,
              "#fdca26"
             ],
             [
              1,
              "#f0f921"
             ]
            ],
            "type": "histogram2dcontour"
           }
          ],
          "mesh3d": [
           {
            "colorbar": {
             "outlinewidth": 0,
             "ticks": ""
            },
            "type": "mesh3d"
           }
          ],
          "parcoords": [
           {
            "line": {
             "colorbar": {
              "outlinewidth": 0,
              "ticks": ""
             }
            },
            "type": "parcoords"
           }
          ],
          "pie": [
           {
            "automargin": true,
            "type": "pie"
           }
          ],
          "scatter": [
           {
            "fillpattern": {
             "fillmode": "overlay",
             "size": 10,
             "solidity": 0.2
            },
            "type": "scatter"
           }
          ],
          "scatter3d": [
           {
            "line": {
             "colorbar": {
              "outlinewidth": 0,
              "ticks": ""
             }
            },
            "marker": {
             "colorbar": {
              "outlinewidth": 0,
              "ticks": ""
             }
            },
            "type": "scatter3d"
           }
          ],
          "scattercarpet": [
           {
            "marker": {
             "colorbar": {
              "outlinewidth": 0,
              "ticks": ""
             }
            },
            "type": "scattercarpet"
           }
          ],
          "scattergeo": [
           {
            "marker": {
             "colorbar": {
              "outlinewidth": 0,
              "ticks": ""
             }
            },
            "type": "scattergeo"
           }
          ],
          "scattergl": [
           {
            "marker": {
             "colorbar": {
              "outlinewidth": 0,
              "ticks": ""
             }
            },
            "type": "scattergl"
           }
          ],
          "scattermapbox": [
           {
            "marker": {
             "colorbar": {
              "outlinewidth": 0,
              "ticks": ""
             }
            },
            "type": "scattermapbox"
           }
          ],
          "scatterpolar": [
           {
            "marker": {
             "colorbar": {
              "outlinewidth": 0,
              "ticks": ""
             }
            },
            "type": "scatterpolar"
           }
          ],
          "scatterpolargl": [
           {
            "marker": {
             "colorbar": {
              "outlinewidth": 0,
              "ticks": ""
             }
            },
            "type": "scatterpolargl"
           }
          ],
          "scatterternary": [
           {
            "marker": {
             "colorbar": {
              "outlinewidth": 0,
              "ticks": ""
             }
            },
            "type": "scatterternary"
           }
          ],
          "surface": [
           {
            "colorbar": {
             "outlinewidth": 0,
             "ticks": ""
            },
            "colorscale": [
             [
              0,
              "#0d0887"
             ],
             [
              0.1111111111111111,
              "#46039f"
             ],
             [
              0.2222222222222222,
              "#7201a8"
             ],
             [
              0.3333333333333333,
              "#9c179e"
             ],
             [
              0.4444444444444444,
              "#bd3786"
             ],
             [
              0.5555555555555556,
              "#d8576b"
             ],
             [
              0.6666666666666666,
              "#ed7953"
             ],
             [
              0.7777777777777778,
              "#fb9f3a"
             ],
             [
              0.8888888888888888,
              "#fdca26"
             ],
             [
              1,
              "#f0f921"
             ]
            ],
            "type": "surface"
           }
          ],
          "table": [
           {
            "cells": {
             "fill": {
              "color": "#EBF0F8"
             },
             "line": {
              "color": "white"
             }
            },
            "header": {
             "fill": {
              "color": "#C8D4E3"
             },
             "line": {
              "color": "white"
             }
            },
            "type": "table"
           }
          ]
         },
         "layout": {
          "annotationdefaults": {
           "arrowcolor": "#2a3f5f",
           "arrowhead": 0,
           "arrowwidth": 1
          },
          "autotypenumbers": "strict",
          "coloraxis": {
           "colorbar": {
            "outlinewidth": 0,
            "ticks": ""
           }
          },
          "colorscale": {
           "diverging": [
            [
             0,
             "#8e0152"
            ],
            [
             0.1,
             "#c51b7d"
            ],
            [
             0.2,
             "#de77ae"
            ],
            [
             0.3,
             "#f1b6da"
            ],
            [
             0.4,
             "#fde0ef"
            ],
            [
             0.5,
             "#f7f7f7"
            ],
            [
             0.6,
             "#e6f5d0"
            ],
            [
             0.7,
             "#b8e186"
            ],
            [
             0.8,
             "#7fbc41"
            ],
            [
             0.9,
             "#4d9221"
            ],
            [
             1,
             "#276419"
            ]
           ],
           "sequential": [
            [
             0,
             "#0d0887"
            ],
            [
             0.1111111111111111,
             "#46039f"
            ],
            [
             0.2222222222222222,
             "#7201a8"
            ],
            [
             0.3333333333333333,
             "#9c179e"
            ],
            [
             0.4444444444444444,
             "#bd3786"
            ],
            [
             0.5555555555555556,
             "#d8576b"
            ],
            [
             0.6666666666666666,
             "#ed7953"
            ],
            [
             0.7777777777777778,
             "#fb9f3a"
            ],
            [
             0.8888888888888888,
             "#fdca26"
            ],
            [
             1,
             "#f0f921"
            ]
           ],
           "sequentialminus": [
            [
             0,
             "#0d0887"
            ],
            [
             0.1111111111111111,
             "#46039f"
            ],
            [
             0.2222222222222222,
             "#7201a8"
            ],
            [
             0.3333333333333333,
             "#9c179e"
            ],
            [
             0.4444444444444444,
             "#bd3786"
            ],
            [
             0.5555555555555556,
             "#d8576b"
            ],
            [
             0.6666666666666666,
             "#ed7953"
            ],
            [
             0.7777777777777778,
             "#fb9f3a"
            ],
            [
             0.8888888888888888,
             "#fdca26"
            ],
            [
             1,
             "#f0f921"
            ]
           ]
          },
          "colorway": [
           "#636efa",
           "#EF553B",
           "#00cc96",
           "#ab63fa",
           "#FFA15A",
           "#19d3f3",
           "#FF6692",
           "#B6E880",
           "#FF97FF",
           "#FECB52"
          ],
          "font": {
           "color": "#2a3f5f"
          },
          "geo": {
           "bgcolor": "white",
           "lakecolor": "white",
           "landcolor": "#E5ECF6",
           "showlakes": true,
           "showland": true,
           "subunitcolor": "white"
          },
          "hoverlabel": {
           "align": "left"
          },
          "hovermode": "closest",
          "mapbox": {
           "style": "light"
          },
          "paper_bgcolor": "white",
          "plot_bgcolor": "#E5ECF6",
          "polar": {
           "angularaxis": {
            "gridcolor": "white",
            "linecolor": "white",
            "ticks": ""
           },
           "bgcolor": "#E5ECF6",
           "radialaxis": {
            "gridcolor": "white",
            "linecolor": "white",
            "ticks": ""
           }
          },
          "scene": {
           "xaxis": {
            "backgroundcolor": "#E5ECF6",
            "gridcolor": "white",
            "gridwidth": 2,
            "linecolor": "white",
            "showbackground": true,
            "ticks": "",
            "zerolinecolor": "white"
           },
           "yaxis": {
            "backgroundcolor": "#E5ECF6",
            "gridcolor": "white",
            "gridwidth": 2,
            "linecolor": "white",
            "showbackground": true,
            "ticks": "",
            "zerolinecolor": "white"
           },
           "zaxis": {
            "backgroundcolor": "#E5ECF6",
            "gridcolor": "white",
            "gridwidth": 2,
            "linecolor": "white",
            "showbackground": true,
            "ticks": "",
            "zerolinecolor": "white"
           }
          },
          "shapedefaults": {
           "line": {
            "color": "#2a3f5f"
           }
          },
          "ternary": {
           "aaxis": {
            "gridcolor": "white",
            "linecolor": "white",
            "ticks": ""
           },
           "baxis": {
            "gridcolor": "white",
            "linecolor": "white",
            "ticks": ""
           },
           "bgcolor": "#E5ECF6",
           "caxis": {
            "gridcolor": "white",
            "linecolor": "white",
            "ticks": ""
           }
          },
          "title": {
           "x": 0.05
          },
          "xaxis": {
           "automargin": true,
           "gridcolor": "white",
           "linecolor": "white",
           "ticks": "",
           "title": {
            "standoff": 15
           },
           "zerolinecolor": "white",
           "zerolinewidth": 2
          },
          "yaxis": {
           "automargin": true,
           "gridcolor": "white",
           "linecolor": "white",
           "ticks": "",
           "title": {
            "standoff": 15
           },
           "zerolinecolor": "white",
           "zerolinewidth": 2
          }
         }
        },
        "title": {
         "text": "Calories Burned Daily"
        }
       }
      }
     },
     "metadata": {},
     "output_type": "display_data"
    }
   ],
   "source": [
    "calories = data[\"Day\"].value_counts()\n",
    "label = calories.index\n",
    "counts = data[\"Calories\"]\n",
    "colors = ['gold','lightgreen', \"pink\", \"blue\", \"skyblue\", \"cyan\", \"orange\"]\n",
    "\n",
    "fig = go.Figure(data=[go.Pie(labels=label, values=counts)])\n",
    "fig.update_layout(title_text='Calories Burned Daily')\n",
    "fig.update_traces(hoverinfo='label+percent', textinfo='value', textfont_size=30,\n",
    "                  marker=dict(colors=colors, line=dict(color='black', width=3)))\n",
    "fig.show()"
   ]
  },
  {
   "cell_type": "markdown",
   "metadata": {},
   "source": [
    "Tuesday is, therefore, one of the most active days for all individuals in the dataset, as the highest number of calories were burned on Tuesdays.\n",
    "\n"
   ]
  },
  {
   "cell_type": "code",
   "execution_count": 28,
   "metadata": {},
   "outputs": [],
   "source": [
    "\n",
    "from sklearn.model_selection import train_test_split\n",
    "from sklearn.preprocessing import StandardScaler\n",
    "from sklearn.ensemble import RandomForestRegressor, RandomForestClassifier\n",
    "from sklearn.metrics import mean_squared_error, accuracy_score, classification_report\n",
    "import seaborn as sns\n"
   ]
  },
  {
   "cell_type": "markdown",
   "metadata": {},
   "source": [
    "Feature Selection and Engineering\n",
    "\n",
    "Inputs:\n",
    "\n",
    "1- TotalSteps\n",
    "\n",
    "2- TotalDistance\n",
    "\n",
    "3- VeryActiveMinutes, FairlyActiveMinutes, LightlyActiveMinutes\n",
    "\n",
    "4- SedentaryMinutes\n",
    "\n",
    "Output for Regression:\n",
    "\n",
    "Calories: The target variable to predict.\n"
   ]
  },
  {
   "cell_type": "code",
   "execution_count": 34,
   "metadata": {},
   "outputs": [],
   "source": [
    "# Choose relevant features\n",
    "features = ['TotalSteps', 'TotalDistance', 'VeryActiveMinutes',\n",
    "            'FairlyActiveMinutes', 'LightlyActiveMinutes', 'SedentaryMinutes']\n",
    "\n",
    "X = data[features]\n",
    "y_reg = data['Calories']  # Target for regression"
   ]
  },
  {
   "cell_type": "markdown",
   "metadata": {},
   "source": [
    "Create Classification Labels"
   ]
  },
  {
   "cell_type": "code",
   "execution_count": 36,
   "metadata": {},
   "outputs": [],
   "source": [
    "data['ActivityLevel'] = data['VeryActiveMinutes'].apply(lambda x: 'Active' if x >= 30 else 'Sedentary')\n",
    "y_clf = data['ActivityLevel']  # For classification\n"
   ]
  },
  {
   "cell_type": "markdown",
   "metadata": {},
   "source": [
    "Train-Test Split and Scaling"
   ]
  },
  {
   "cell_type": "code",
   "execution_count": 30,
   "metadata": {},
   "outputs": [],
   "source": [
    "# Split for regression\n",
    "X_train_reg, X_test_reg, y_train_reg, y_test_reg = train_test_split(X, y_reg, test_size=0.2, random_state=42)\n",
    "\n",
    "# Split for classification\n",
    "X_train_clf, X_test_clf, y_train_clf, y_test_clf = train_test_split(X, y_clf, test_size=0.2, random_state=42)\n",
    "\n",
    "# Standardize features\n",
    "scaler = StandardScaler()\n",
    "X_train_reg = scaler.fit_transform(X_train_reg)\n",
    "X_test_reg = scaler.transform(X_test_reg)\n",
    "X_train_clf = scaler.fit_transform(X_train_clf)\n",
    "X_test_clf = scaler.transform(X_test_clf)\n"
   ]
  },
  {
   "cell_type": "markdown",
   "metadata": {},
   "source": [
    "Calorie Prediction Model (Regression)\n",
    "\n",
    "Trains a Random Forest Regressor with 100 trees.\n",
    "\n",
    "Evaluates using Root Mean Squared Error (RMSE) — lower is better.\n",
    "\n"
   ]
  },
  {
   "cell_type": "code",
   "execution_count": 31,
   "metadata": {},
   "outputs": [
    {
     "name": "stdout",
     "output_type": "stream",
     "text": [
      "Regression RMSE: 470.538972488613\n"
     ]
    }
   ],
   "source": [
    "reg_model = RandomForestRegressor(n_estimators=100, random_state=42)\n",
    "reg_model.fit(X_train_reg, y_train_reg)\n",
    "y_pred_reg = reg_model.predict(X_test_reg)\n",
    "\n",
    "# Evaluation\n",
    "print(\"Regression RMSE:\", np.sqrt(mean_squared_error(y_test_reg, y_pred_reg)))\n"
   ]
  },
  {
   "cell_type": "markdown",
   "metadata": {},
   "source": [
    "Activity Classification Model\n",
    "\n",
    "Trains a Random Forest Classifier to detect if a person is \"Active\" or \"Sedentary\".\n",
    "\n",
    "Evaluates with:\n",
    "\n",
    "Accuracy Score: % of correct predictions.\n",
    "\n",
    "Classification Report: Precision, recall, F1-score."
   ]
  },
  {
   "cell_type": "code",
   "execution_count": 32,
   "metadata": {},
   "outputs": [
    {
     "name": "stdout",
     "output_type": "stream",
     "text": [
      "Classification Accuracy: 1.0\n",
      "              precision    recall  f1-score   support\n",
      "\n",
      "      Active       1.00      1.00      1.00        29\n",
      "   Sedentary       1.00      1.00      1.00        63\n",
      "\n",
      "    accuracy                           1.00        92\n",
      "   macro avg       1.00      1.00      1.00        92\n",
      "weighted avg       1.00      1.00      1.00        92\n",
      "\n"
     ]
    }
   ],
   "source": [
    "clf_model = RandomForestClassifier(n_estimators=100, random_state=42)\n",
    "clf_model.fit(X_train_clf, y_train_clf)\n",
    "y_pred_clf = clf_model.predict(X_test_clf)\n",
    "\n",
    "# Evaluation\n",
    "print(\"Classification Accuracy:\", accuracy_score(y_test_clf, y_pred_clf))\n",
    "print(classification_report(y_test_clf, y_pred_clf))\n"
   ]
  },
  {
   "cell_type": "markdown",
   "metadata": {},
   "source": [
    "Visualization "
   ]
  },
  {
   "cell_type": "code",
   "execution_count": 37,
   "metadata": {},
   "outputs": [
    {
     "data": {
      "image/png": "[encoded data removed]",
      "text/plain": [
       "<Figure size 640x480 with 1 Axes>"
      ]
     },
     "metadata": {},
     "output_type": "display_data"
    }
   ],
   "source": [
    "importances = clf_model.feature_importances_\n",
    "sns.barplot(x=importances, y=features)\n",
    "plt.title(\"Feature Importance for Activity Classification\")\n",
    "plt.show()\n"
   ]
  },
  {
   "cell_type": "code",
   "execution_count": null,
   "metadata": {},
   "outputs": [],
   "source": []
  }
 ],
 "metadata": {
  "kernelspec": {
   "display_name": "Python 3",
   "language": "python",
   "name": "python3"
  },
  "language_info": {
   "codemirror_mode": {
    "name": "ipython",
    "version": 3
   },
   "file_extension": ".py",
   "mimetype": "text/x-python",
   "name": "python",
   "nbconvert_exporter": "python",
   "pygments_lexer": "ipython3",
   "version": "3.11.9"
  }
 },
 "nbformat": 4,
 "nbformat_minor": 2
}
